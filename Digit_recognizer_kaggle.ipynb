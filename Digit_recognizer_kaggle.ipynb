{
  "nbformat": 4,
  "nbformat_minor": 0,
  "metadata": {
    "colab": {
      "name": "Digit_recognizer_kaggle.ipynb",
      "provenance": []
    },
    "kernelspec": {
      "name": "python3",
      "display_name": "Python 3"
    },
    "accelerator": "GPU"
  },
  "cells": [
    {
      "cell_type": "markdown",
      "metadata": {
        "id": "2Ysgk3gMpb8b",
        "colab_type": "text"
      },
      "source": [
        "# **Digit Recognizer**"
      ]
    },
    {
      "cell_type": "markdown",
      "metadata": {
        "id": "Kot_zs5KpfuP",
        "colab_type": "text"
      },
      "source": [
        "**Competition Description**\n",
        "\n",
        "MNIST (\"Modified National Institute of Standards and Technology\") is the de facto “hello world” dataset of computer vision. Since its release in 1999, this classic dataset of handwritten images has served as the basis for benchmarking classification algorithms. As new machine learning techniques emerge, MNIST remains a reliable resource for researchers and learners alike.\n",
        "\n",
        "In this competition, your goal is to correctly identify digits from a dataset of tens of thousands of handwritten images"
      ]
    },
    {
      "cell_type": "code",
      "metadata": {
        "id": "9xNTaBvypejF",
        "colab_type": "code",
        "colab": {
          "base_uri": "https://localhost:8080/",
          "height": 298
        },
        "outputId": "5ae7c136-62bb-4763-b658-e1d858ac2e89"
      },
      "source": [
        "from IPython.display import Image\n",
        "Image(url= \"https://external-content.duckduckgo.com/iu/?u=https%3A%2F%2Ftse3.mm.bing.net%2Fth%3Fid%3DOIP.rmWbidEzubGp_bFVpQpjoQHaEV%26pid%3DApi&f=1\")"
      ],
      "execution_count": null,
      "outputs": [
        {
          "output_type": "execute_result",
          "data": {
            "text/html": [
              "<img src=\"https://external-content.duckduckgo.com/iu/?u=https%3A%2F%2Ftse3.mm.bing.net%2Fth%3Fid%3DOIP.rmWbidEzubGp_bFVpQpjoQHaEV%26pid%3DApi&f=1\"/>"
            ],
            "text/plain": [
              "<IPython.core.display.Image object>"
            ]
          },
          "metadata": {
            "tags": []
          },
          "execution_count": 2
        }
      ]
    },
    {
      "cell_type": "markdown",
      "metadata": {
        "id": "YHR1Doz1r6ji",
        "colab_type": "text"
      },
      "source": [
        "## **Collecting the Data**\n",
        "\n",
        "training data set and testing data set are given by Kaggle you can download from kaggle directly\n",
        "\n",
        "link-https://www.kaggle.com/c/digit-recognizer/data"
      ]
    },
    {
      "cell_type": "markdown",
      "metadata": {
        "id": "y6vFfrU4sO01",
        "colab_type": "text"
      },
      "source": [
        "## load train, test dataset\n",
        "\n",
        "The Python Pandas packages helps us work with our datasets. We start by acquiring the training and testing datasets into Pandas DataFrames. We also combine these datasets to run certain operations on both datasets together."
      ]
    },
    {
      "cell_type": "code",
      "metadata": {
        "id": "csTi5FvU2D5T",
        "colab_type": "code",
        "colab": {
          "base_uri": "https://localhost:8080/",
          "height": 102
        },
        "outputId": "408920ea-ce3b-4dd6-a6f8-ba94808a5501"
      },
      "source": [
        "pip install mnist"
      ],
      "execution_count": 9,
      "outputs": [
        {
          "output_type": "stream",
          "text": [
            "Collecting mnist\n",
            "  Downloading https://files.pythonhosted.org/packages/c6/c4/5db3bfe009f8d71f1d532bbadbd0ec203764bba3a469e4703a889db8e5e0/mnist-0.2.2-py2.py3-none-any.whl\n",
            "Requirement already satisfied: numpy in /usr/local/lib/python3.6/dist-packages (from mnist) (1.18.5)\n",
            "Installing collected packages: mnist\n",
            "Successfully installed mnist-0.2.2\n"
          ],
          "name": "stdout"
        }
      ]
    },
    {
      "cell_type": "code",
      "metadata": {
        "id": "xkZqwa4VLFDZ",
        "colab_type": "code",
        "colab": {}
      },
      "source": [
        "import mnist\n",
        "\n",
        "train_images=mnist.train_images()\n",
        "train_labels=mnist.train_labels()\n",
        "test_images=mnist.test_images()\n",
        "test_labels=mnist.test_labels()"
      ],
      "execution_count": 10,
      "outputs": []
    },
    {
      "cell_type": "code",
      "metadata": {
        "id": "iInh0LfNLhGN",
        "colab_type": "code",
        "colab": {}
      },
      "source": [
        "import pandas as pd\n",
        "test_kaggle=pd.read_csv('test.csv')"
      ],
      "execution_count": 11,
      "outputs": []
    },
    {
      "cell_type": "markdown",
      "metadata": {
        "id": "pu7WuAC426FM",
        "colab_type": "text"
      },
      "source": [
        "## Exploritory Data analysis"
      ]
    },
    {
      "cell_type": "code",
      "metadata": {
        "id": "g1_2qA9JLrFJ",
        "colab_type": "code",
        "colab": {}
      },
      "source": [
        "train_images=train_images/255\n",
        "test_images=test_images/255"
      ],
      "execution_count": 12,
      "outputs": []
    },
    {
      "cell_type": "markdown",
      "metadata": {
        "id": "9jPYKgEu3Cmg",
        "colab_type": "text"
      },
      "source": [
        "We are scaling down the images between 0 and 1\n",
        "\n",
        "Y divide by 255\n",
        "\n",
        "Because that is the highest value of a pixel in this dataset"
      ]
    },
    {
      "cell_type": "code",
      "metadata": {
        "id": "fgcpI5OyMhU5",
        "colab_type": "code",
        "colab": {}
      },
      "source": [
        "train_images=train_images.reshape((-1,784))\n",
        "test_images=test_images.reshape((-1,784))"
      ],
      "execution_count": 13,
      "outputs": []
    },
    {
      "cell_type": "markdown",
      "metadata": {
        "id": "1Jx66kle3PbO",
        "colab_type": "text"
      },
      "source": [
        "Now we reshape the pixels to an 1d array so that we can feed it to neural network"
      ]
    },
    {
      "cell_type": "code",
      "metadata": {
        "id": "iOLp-wFKM-za",
        "colab_type": "code",
        "colab": {
          "base_uri": "https://localhost:8080/",
          "height": 34
        },
        "outputId": "f9fd1865-af51-4cd1-fa28-4dff8c57de37"
      },
      "source": [
        "train_images.shape"
      ],
      "execution_count": 12,
      "outputs": [
        {
          "output_type": "execute_result",
          "data": {
            "text/plain": [
              "(60000, 784)"
            ]
          },
          "metadata": {
            "tags": []
          },
          "execution_count": 12
        }
      ]
    },
    {
      "cell_type": "code",
      "metadata": {
        "id": "tb15ukqPNKhe",
        "colab_type": "code",
        "colab": {
          "base_uri": "https://localhost:8080/",
          "height": 34
        },
        "outputId": "f6f4c3b8-a778-41b8-af5e-2de566a103a3"
      },
      "source": [
        "test_images.shape"
      ],
      "execution_count": 13,
      "outputs": [
        {
          "output_type": "execute_result",
          "data": {
            "text/plain": [
              "(10000, 784)"
            ]
          },
          "metadata": {
            "tags": []
          },
          "execution_count": 13
        }
      ]
    },
    {
      "cell_type": "markdown",
      "metadata": {
        "id": "S45EBr2k3duW",
        "colab_type": "text"
      },
      "source": [
        "## Data Visulization"
      ]
    },
    {
      "cell_type": "markdown",
      "metadata": {
        "id": "f5jPDpcU4z0C",
        "colab_type": "text"
      },
      "source": [
        "Seaborn and Matplot lib is an excellent library used fro data visulization in python"
      ]
    },
    {
      "cell_type": "code",
      "metadata": {
        "id": "kIsR5h4s3iDc",
        "colab_type": "code",
        "colab": {
          "base_uri": "https://localhost:8080/",
          "height": 338
        },
        "outputId": "fb697838-cd7c-40b1-8d24-fc8e0cb01856"
      },
      "source": [
        "import seaborn as sns\n",
        "sns.countplot(train_labels)"
      ],
      "execution_count": 17,
      "outputs": [
        {
          "output_type": "stream",
          "text": [
            "/usr/local/lib/python3.6/dist-packages/statsmodels/tools/_testing.py:19: FutureWarning: pandas.util.testing is deprecated. Use the functions in the public API at pandas.testing instead.\n",
            "  import pandas.util.testing as tm\n"
          ],
          "name": "stderr"
        },
        {
          "output_type": "execute_result",
          "data": {
            "text/plain": [
              "<matplotlib.axes._subplots.AxesSubplot at 0x7f28f95bfd68>"
            ]
          },
          "metadata": {
            "tags": []
          },
          "execution_count": 17
        },
        {
          "output_type": "display_data",
          "data": {
            "image/png": "[encoded data removed]",
            "text/plain": [
              "<Figure size 432x288 with 1 Axes>"
            ]
          },
          "metadata": {
            "tags": [],
            "needs_background": "light"
          }
        }
      ]
    },
    {
      "cell_type": "markdown",
      "metadata": {
        "id": "1j0cqrfI3tIK",
        "colab_type": "text"
      },
      "source": [
        "**We can see that the distribution of the data is uniform**"
      ]
    },
    {
      "cell_type": "code",
      "metadata": {
        "id": "W138xlEvNS0T",
        "colab_type": "code",
        "colab": {}
      },
      "source": [
        "train_kaggle=pd.read_csv('train.csv')\n",
        "train_kaggle=train_kaggle.drop(['label'],axis=1)\n",
        "train_kaggle=train_kaggle.values.reshape(train_kaggle.shape[0], 28, 28)\n",
        "train_kaggle=train_kaggle/255\n"
      ],
      "execution_count": 19,
      "outputs": []
    },
    {
      "cell_type": "markdown",
      "metadata": {
        "id": "IP6hsdnv5DXq",
        "colab_type": "text"
      },
      "source": [
        "**We will plot some random sample data**"
      ]
    },
    {
      "cell_type": "code",
      "metadata": {
        "id": "4gYOjl3NO6VV",
        "colab_type": "code",
        "colab": {
          "base_uri": "https://localhost:8080/",
          "height": 282
        },
        "outputId": "f1de8ecb-105e-4853-c292-a3861c56d6a8"
      },
      "source": [
        "from matplotlib import pyplot as plt\n",
        "plt.imshow(train_kaggle[1])"
      ],
      "execution_count": 20,
      "outputs": [
        {
          "output_type": "execute_result",
          "data": {
            "text/plain": [
              "<matplotlib.image.AxesImage at 0x7f28f9005a20>"
            ]
          },
          "metadata": {
            "tags": []
          },
          "execution_count": 20
        },
        {
          "output_type": "display_data",
          "data": {
            "image/png": "[encoded data removed]",
            "text/plain": [
              "<Figure size 432x288 with 1 Axes>"
            ]
          },
          "metadata": {
            "tags": [],
            "needs_background": "light"
          }
        }
      ]
    },
    {
      "cell_type": "code",
      "metadata": {
        "id": "agdxYu2uPW9W",
        "colab_type": "code",
        "colab": {
          "base_uri": "https://localhost:8080/",
          "height": 282
        },
        "outputId": "b32f3f3c-ad7c-48f9-b5e1-977e63a959e0"
      },
      "source": [
        "plt.imshow(train_kaggle[23])"
      ],
      "execution_count": 21,
      "outputs": [
        {
          "output_type": "execute_result",
          "data": {
            "text/plain": [
              "<matplotlib.image.AxesImage at 0x7f28f8f4eac8>"
            ]
          },
          "metadata": {
            "tags": []
          },
          "execution_count": 21
        },
        {
          "output_type": "display_data",
          "data": {
            "image/png": "[encoded data removed]",
            "text/plain": [
              "<Figure size 432x288 with 1 Axes>"
            ]
          },
          "metadata": {
            "tags": [],
            "needs_background": "light"
          }
        }
      ]
    },
    {
      "cell_type": "code",
      "metadata": {
        "id": "NJJdXM71S5yB",
        "colab_type": "code",
        "colab": {
          "base_uri": "https://localhost:8080/",
          "height": 282
        },
        "outputId": "0760b397-25b5-4922-a88b-c2a367bae41d"
      },
      "source": [
        "plt.imshow(train_kaggle[1324])"
      ],
      "execution_count": 22,
      "outputs": [
        {
          "output_type": "execute_result",
          "data": {
            "text/plain": [
              "<matplotlib.image.AxesImage at 0x7f28f8f28940>"
            ]
          },
          "metadata": {
            "tags": []
          },
          "execution_count": 22
        },
        {
          "output_type": "display_data",
          "data": {
            "image/png": "[encoded data removed]",
            "text/plain": [
              "<Figure size 432x288 with 1 Axes>"
            ]
          },
          "metadata": {
            "tags": [],
            "needs_background": "light"
          }
        }
      ]
    },
    {
      "cell_type": "code",
      "metadata": {
        "id": "7qnV7n3CS7Bp",
        "colab_type": "code",
        "colab": {
          "base_uri": "https://localhost:8080/",
          "height": 282
        },
        "outputId": "6cada9d1-a030-459e-dc8a-412188d1c08b"
      },
      "source": [
        "plt.imshow(train_kaggle[2132])"
      ],
      "execution_count": 23,
      "outputs": [
        {
          "output_type": "execute_result",
          "data": {
            "text/plain": [
              "<matplotlib.image.AxesImage at 0x7f28f8f049e8>"
            ]
          },
          "metadata": {
            "tags": []
          },
          "execution_count": 23
        },
        {
          "output_type": "display_data",
          "data": {
            "image/png": "[encoded data removed]",
            "text/plain": [
              "<Figure size 432x288 with 1 Axes>"
            ]
          },
          "metadata": {
            "tags": [],
            "needs_background": "light"
          }
        }
      ]
    },
    {
      "cell_type": "markdown",
      "metadata": {
        "id": "QqNyytZq5NEp",
        "colab_type": "text"
      },
      "source": [
        "## Model Creation and Training"
      ]
    },
    {
      "cell_type": "markdown",
      "metadata": {
        "id": "g9E2czjw5Ro4",
        "colab_type": "text"
      },
      "source": [
        "**We are creating an Artificial Neural Network in order to categorize the images into ten categories**"
      ]
    },
    {
      "cell_type": "markdown",
      "metadata": {
        "id": "rm42TM2B5juJ",
        "colab_type": "text"
      },
      "source": [
        "We are using Keras library to build a neural network"
      ]
    },
    {
      "cell_type": "code",
      "metadata": {
        "id": "1SYYeJXSS8nD",
        "colab_type": "code",
        "colab": {}
      },
      "source": [
        "\n",
        "from keras.wrappers.scikit_learn import KerasClassifier\n",
        "from sklearn.model_selection import RandomizedSearchCV\n",
        "import keras\n",
        "from keras.models import Sequential\n",
        "from keras.layers import Dense, Activation, Embedding, Flatten, LeakyReLU, BatchNormalization, Dropout\n",
        "from keras.activations import relu, sigmoid\n"
      ],
      "execution_count": 15,
      "outputs": []
    },
    {
      "cell_type": "code",
      "metadata": {
        "id": "NgKLUmRPTSDI",
        "colab_type": "code",
        "colab": {}
      },
      "source": [
        "model=keras.Sequential()"
      ],
      "execution_count": 25,
      "outputs": []
    },
    {
      "cell_type": "code",
      "metadata": {
        "id": "xZyXtZUTTX6u",
        "colab_type": "code",
        "colab": {}
      },
      "source": [
        "# Adding the input layer and the first hidden layer\n",
        "model.add(Dense(128,activation='relu',kernel_initializer = 'he_uniform',input_dim=784))\n",
        "\n",
        "# Adding the second hidden layer\n",
        "model.add(Dense(units = 64, kernel_initializer = 'he_uniform',activation='relu'))\n",
        "# Adding the output layer\n",
        "model.add(Dense(units= 10, kernel_initializer = 'glorot_uniform', activation = 'softmax'))"
      ],
      "execution_count": 26,
      "outputs": []
    },
    {
      "cell_type": "code",
      "metadata": {
        "id": "T1Cc9a3jUN8p",
        "colab_type": "code",
        "colab": {
          "base_uri": "https://localhost:8080/",
          "height": 255
        },
        "outputId": "b7f76121-1b23-4073-b96d-fff6cb17a8bb"
      },
      "source": [
        "model.summary()"
      ],
      "execution_count": 27,
      "outputs": [
        {
          "output_type": "stream",
          "text": [
            "Model: \"sequential_1\"\n",
            "_________________________________________________________________\n",
            "Layer (type)                 Output Shape              Param #   \n",
            "=================================================================\n",
            "dense_1 (Dense)              (None, 128)               100480    \n",
            "_________________________________________________________________\n",
            "dense_2 (Dense)              (None, 64)                8256      \n",
            "_________________________________________________________________\n",
            "dense_3 (Dense)              (None, 10)                650       \n",
            "=================================================================\n",
            "Total params: 109,386\n",
            "Trainable params: 109,386\n",
            "Non-trainable params: 0\n",
            "_________________________________________________________________\n"
          ],
          "name": "stdout"
        }
      ]
    },
    {
      "cell_type": "code",
      "metadata": {
        "id": "om3_lsAvURJW",
        "colab_type": "code",
        "colab": {}
      },
      "source": [
        "# Compiling the ANN\n",
        "model.compile(optimizer = 'Adamax', loss = 'categorical_crossentropy', metrics = ['accuracy'])"
      ],
      "execution_count": 28,
      "outputs": []
    },
    {
      "cell_type": "code",
      "metadata": {
        "id": "2qeM5HBjV5E4",
        "colab_type": "code",
        "colab": {
          "base_uri": "https://localhost:8080/",
          "height": 391
        },
        "outputId": "fd8baeb1-6950-417a-87fa-4d24f2310107"
      },
      "source": [
        "from keras.utils import to_categorical\n",
        "# Fitting the ANN to the Training set\n",
        "model_history=model.fit(train_images,\n",
        "                             to_categorical(train_labels)\n",
        "                            ,batch_size = 10, \n",
        "                              nb_epoch = 10)"
      ],
      "execution_count": 30,
      "outputs": [
        {
          "output_type": "stream",
          "text": [
            "/usr/local/lib/python3.6/dist-packages/ipykernel_launcher.py:6: UserWarning: The `nb_epoch` argument in `fit` has been renamed `epochs`.\n",
            "  \n"
          ],
          "name": "stderr"
        },
        {
          "output_type": "stream",
          "text": [
            "Epoch 1/10\n",
            "60000/60000 [==============================] - 26s 437us/step - loss: 0.2399 - accuracy: 0.9294\n",
            "Epoch 2/10\n",
            "60000/60000 [==============================] - 23s 385us/step - loss: 0.1116 - accuracy: 0.9669\n",
            "Epoch 3/10\n",
            "60000/60000 [==============================] - 23s 388us/step - loss: 0.0798 - accuracy: 0.9756\n",
            "Epoch 4/10\n",
            "60000/60000 [==============================] - 23s 390us/step - loss: 0.0610 - accuracy: 0.9820\n",
            "Epoch 5/10\n",
            "60000/60000 [==============================] - 23s 385us/step - loss: 0.0493 - accuracy: 0.9850\n",
            "Epoch 6/10\n",
            "60000/60000 [==============================] - 24s 400us/step - loss: 0.0400 - accuracy: 0.9875\n",
            "Epoch 7/10\n",
            "60000/60000 [==============================] - 23s 390us/step - loss: 0.0324 - accuracy: 0.9907\n",
            "Epoch 8/10\n",
            "60000/60000 [==============================] - 23s 392us/step - loss: 0.0265 - accuracy: 0.9924\n",
            "Epoch 9/10\n",
            "60000/60000 [==============================] - 23s 385us/step - loss: 0.0223 - accuracy: 0.9936\n",
            "Epoch 10/10\n",
            "60000/60000 [==============================] - 23s 388us/step - loss: 0.0181 - accuracy: 0.9946\n"
          ],
          "name": "stdout"
        }
      ]
    },
    {
      "cell_type": "code",
      "metadata": {
        "id": "dvi9OsOzWbOz",
        "colab_type": "code",
        "colab": {
          "base_uri": "https://localhost:8080/",
          "height": 295
        },
        "outputId": "0291e4f6-6350-43cf-f5e5-5c71a8560a51"
      },
      "source": [
        "\n",
        "# summarize history for loss\n",
        "plt.plot(model_history.history['loss'])\n",
        "\n",
        "plt.title('model loss')\n",
        "plt.ylabel('loss')\n",
        "plt.xlabel('epoch')\n",
        "plt.legend(['train', 'test'], loc='upper left')\n",
        "plt.show()"
      ],
      "execution_count": 31,
      "outputs": [
        {
          "output_type": "display_data",
          "data": {
            "image/png": "[encoded data removed]",
            "text/plain": [
              "<Figure size 432x288 with 1 Axes>"
            ]
          },
          "metadata": {
            "tags": [],
            "needs_background": "light"
          }
        }
      ]
    },
    {
      "cell_type": "markdown",
      "metadata": {
        "id": "c7ZXz8tf5-v3",
        "colab_type": "text"
      },
      "source": [
        "### Hyper parameter Tuning\n"
      ]
    },
    {
      "cell_type": "markdown",
      "metadata": {
        "id": "kZoQRU8F6DTY",
        "colab_type": "text"
      },
      "source": [
        "We will perform some Hyperparameter optimiztion in order to get the best hyperparamteres which will provide us with  best results"
      ]
    },
    {
      "cell_type": "markdown",
      "metadata": {
        "id": "lM7vCMRy6Pr4",
        "colab_type": "text"
      },
      "source": [
        "We are using **Randomized search cv** provided by scikit learn to perform hyperparameter optimization"
      ]
    },
    {
      "cell_type": "code",
      "metadata": {
        "id": "KxVS993iYCON",
        "colab_type": "code",
        "colab": {}
      },
      "source": [
        "def create_model(layers, activation):\n",
        "    model = Sequential()\n",
        "    for i, nodes in enumerate(layers):\n",
        "        if i==0:\n",
        "            model.add(Dense(nodes,input_dim=784))\n",
        "            model.add(Activation(activation))\n",
        "            model.add(Dropout(0.1))\n",
        "        else:\n",
        "            model.add(Dense(nodes))\n",
        "            model.add(Activation(activation))\n",
        "            model.add(Dropout(0.1))\n",
        "            \n",
        "    model.add(Dense(units = 10, kernel_initializer= 'glorot_uniform', activation = 'softmax')) # Note: no activation beyond this point\n",
        "    \n",
        "    model.compile(optimizer='adam', loss='categorical_crossentropy',metrics=['accuracy'])\n",
        "    return model"
      ],
      "execution_count": null,
      "outputs": []
    },
    {
      "cell_type": "code",
      "metadata": {
        "id": "BEGmyrqYYYmh",
        "colab_type": "code",
        "colab": {}
      },
      "source": [
        "model = KerasClassifier(build_fn=create_model)"
      ],
      "execution_count": null,
      "outputs": []
    },
    {
      "cell_type": "code",
      "metadata": {
        "id": "pKKLXk_eYbG7",
        "colab_type": "code",
        "colab": {}
      },
      "source": [
        "layers = [ (128, 64),(64,64),(64,32,16)]\n",
        "activations = [ 'relu']\n",
        "param_grid = dict(layers=layers, activation=activations, batch_size = [10], epochs=[10])"
      ],
      "execution_count": null,
      "outputs": []
    },
    {
      "cell_type": "code",
      "metadata": {
        "id": "Dc4dLRRpYzZB",
        "colab_type": "code",
        "colab": {}
      },
      "source": [
        "grid = RandomizedSearchCV(estimator=model, param_distributions=param_grid,cv=5)"
      ],
      "execution_count": null,
      "outputs": []
    },
    {
      "cell_type": "code",
      "metadata": {
        "id": "n6Z-vEnntp2X",
        "colab_type": "code",
        "colab": {
          "base_uri": "https://localhost:8080/",
          "height": 1000
        },
        "outputId": "3dc2b9f3-817c-4d97-8db1-aa3c5e7e6d71"
      },
      "source": [
        "grid_result = grid.fit(train_images,  to_categorical(train_labels))"
      ],
      "execution_count": null,
      "outputs": [
        {
          "output_type": "stream",
          "text": [
            "/usr/local/lib/python3.6/dist-packages/sklearn/model_selection/_search.py:281: UserWarning: The total space of parameters 3 is smaller than n_iter=10. Running 3 iterations. For exhaustive searches, use GridSearchCV.\n",
            "  % (grid_size, self.n_iter, grid_size), UserWarning)\n"
          ],
          "name": "stderr"
        },
        {
          "output_type": "stream",
          "text": [
            "Epoch 1/10\n",
            "48000/48000 [==============================] - 21s 445us/step - loss: 0.2671 - accuracy: 0.9205\n",
            "Epoch 2/10\n",
            "48000/48000 [==============================] - 21s 447us/step - loss: 0.1355 - accuracy: 0.9596\n",
            "Epoch 3/10\n",
            "48000/48000 [==============================] - 22s 451us/step - loss: 0.1023 - accuracy: 0.9686\n",
            "Epoch 4/10\n",
            "48000/48000 [==============================] - 21s 445us/step - loss: 0.0839 - accuracy: 0.9743\n",
            "Epoch 5/10\n",
            "48000/48000 [==============================] - 21s 445us/step - loss: 0.0724 - accuracy: 0.9779\n",
            "Epoch 6/10\n",
            "48000/48000 [==============================] - 21s 445us/step - loss: 0.0666 - accuracy: 0.9784\n",
            "Epoch 7/10\n",
            "48000/48000 [==============================] - 21s 444us/step - loss: 0.0592 - accuracy: 0.9812\n",
            "Epoch 8/10\n",
            "48000/48000 [==============================] - 21s 443us/step - loss: 0.0520 - accuracy: 0.9837\n",
            "Epoch 9/10\n",
            "48000/48000 [==============================] - 21s 444us/step - loss: 0.0517 - accuracy: 0.9839\n",
            "Epoch 10/10\n",
            "48000/48000 [==============================] - 21s 443us/step - loss: 0.0471 - accuracy: 0.9853\n",
            "12000/12000 [==============================] - 3s 242us/step\n",
            "Epoch 1/10\n",
            "48000/48000 [==============================] - 21s 447us/step - loss: 0.2683 - accuracy: 0.9192\n",
            "Epoch 2/10\n",
            "48000/48000 [==============================] - 21s 444us/step - loss: 0.1355 - accuracy: 0.9582\n",
            "Epoch 3/10\n",
            "48000/48000 [==============================] - 22s 462us/step - loss: 0.1034 - accuracy: 0.9681\n",
            "Epoch 4/10\n",
            "48000/48000 [==============================] - 21s 443us/step - loss: 0.0886 - accuracy: 0.9723\n",
            "Epoch 5/10\n",
            "48000/48000 [==============================] - 21s 442us/step - loss: 0.0731 - accuracy: 0.9772\n",
            "Epoch 6/10\n",
            "48000/48000 [==============================] - 21s 444us/step - loss: 0.0667 - accuracy: 0.9790\n",
            "Epoch 7/10\n",
            "48000/48000 [==============================] - 22s 451us/step - loss: 0.0617 - accuracy: 0.9811\n",
            "Epoch 8/10\n",
            "48000/48000 [==============================] - 21s 443us/step - loss: 0.0549 - accuracy: 0.9827\n",
            "Epoch 9/10\n",
            "48000/48000 [==============================] - 21s 445us/step - loss: 0.0522 - accuracy: 0.9836\n",
            "Epoch 10/10\n",
            "48000/48000 [==============================] - 21s 444us/step - loss: 0.0497 - accuracy: 0.9849\n",
            "12000/12000 [==============================] - 3s 242us/step\n",
            "Epoch 1/10\n",
            "48000/48000 [==============================] - 21s 444us/step - loss: 0.2691 - accuracy: 0.9184\n",
            "Epoch 2/10\n",
            "48000/48000 [==============================] - 21s 443us/step - loss: 0.1374 - accuracy: 0.9580\n",
            "Epoch 3/10\n",
            "48000/48000 [==============================] - 21s 445us/step - loss: 0.1044 - accuracy: 0.9679\n",
            "Epoch 4/10\n",
            "48000/48000 [==============================] - 21s 443us/step - loss: 0.0865 - accuracy: 0.9732\n",
            "Epoch 5/10\n",
            "48000/48000 [==============================] - 21s 445us/step - loss: 0.0751 - accuracy: 0.9765\n",
            "Epoch 6/10\n",
            "48000/48000 [==============================] - 21s 444us/step - loss: 0.0621 - accuracy: 0.9805\n",
            "Epoch 7/10\n",
            "48000/48000 [==============================] - 21s 447us/step - loss: 0.0580 - accuracy: 0.9815\n",
            "Epoch 8/10\n",
            "48000/48000 [==============================] - 22s 459us/step - loss: 0.0557 - accuracy: 0.9824\n",
            "Epoch 9/10\n",
            "48000/48000 [==============================] - 21s 444us/step - loss: 0.0527 - accuracy: 0.9830\n",
            "Epoch 10/10\n",
            "48000/48000 [==============================] - 21s 445us/step - loss: 0.0455 - accuracy: 0.9856\n",
            "12000/12000 [==============================] - 3s 245us/step\n",
            "Epoch 1/10\n",
            "48000/48000 [==============================] - 22s 456us/step - loss: 0.2717 - accuracy: 0.9190\n",
            "Epoch 2/10\n",
            "48000/48000 [==============================] - 21s 448us/step - loss: 0.1306 - accuracy: 0.9599\n",
            "Epoch 3/10\n",
            "48000/48000 [==============================] - 21s 446us/step - loss: 0.0994 - accuracy: 0.9698\n",
            "Epoch 4/10\n",
            "48000/48000 [==============================] - 22s 450us/step - loss: 0.0815 - accuracy: 0.9744\n",
            "Epoch 5/10\n",
            "48000/48000 [==============================] - 22s 449us/step - loss: 0.0746 - accuracy: 0.9765\n",
            "Epoch 6/10\n",
            "48000/48000 [==============================] - 22s 448us/step - loss: 0.0631 - accuracy: 0.9804\n",
            "Epoch 7/10\n",
            "48000/48000 [==============================] - 21s 446us/step - loss: 0.0588 - accuracy: 0.9821\n",
            "Epoch 8/10\n",
            "48000/48000 [==============================] - 21s 447us/step - loss: 0.0549 - accuracy: 0.9826\n",
            "Epoch 9/10\n",
            "48000/48000 [==============================] - 21s 446us/step - loss: 0.0492 - accuracy: 0.9842\n",
            "Epoch 10/10\n",
            "48000/48000 [==============================] - 21s 447us/step - loss: 0.0488 - accuracy: 0.9848\n",
            "12000/12000 [==============================] - 3s 240us/step\n",
            "Epoch 1/10\n",
            "48000/48000 [==============================] - 22s 448us/step - loss: 0.2715 - accuracy: 0.9174\n",
            "Epoch 2/10\n",
            "48000/48000 [==============================] - 22s 462us/step - loss: 0.1376 - accuracy: 0.9589\n",
            "Epoch 3/10\n",
            "48000/48000 [==============================] - 21s 442us/step - loss: 0.1041 - accuracy: 0.9687\n",
            "Epoch 4/10\n",
            "48000/48000 [==============================] - 21s 441us/step - loss: 0.0878 - accuracy: 0.9726\n",
            "Epoch 5/10\n",
            "48000/48000 [==============================] - 22s 451us/step - loss: 0.0759 - accuracy: 0.9768\n",
            "Epoch 6/10\n",
            "48000/48000 [==============================] - 21s 441us/step - loss: 0.0660 - accuracy: 0.9792\n",
            "Epoch 7/10\n",
            "48000/48000 [==============================] - 21s 442us/step - loss: 0.0597 - accuracy: 0.9813\n",
            "Epoch 8/10\n",
            "48000/48000 [==============================] - 21s 441us/step - loss: 0.0520 - accuracy: 0.9836\n",
            "Epoch 9/10\n",
            "48000/48000 [==============================] - 21s 442us/step - loss: 0.0503 - accuracy: 0.9835\n",
            "Epoch 10/10\n",
            "48000/48000 [==============================] - 21s 442us/step - loss: 0.0457 - accuracy: 0.9850\n",
            "12000/12000 [==============================] - 3s 242us/step\n",
            "Epoch 1/10\n",
            "48000/48000 [==============================] - 21s 436us/step - loss: 0.3141 - accuracy: 0.9042\n",
            "Epoch 2/10\n",
            "48000/48000 [==============================] - 21s 440us/step - loss: 0.1630 - accuracy: 0.9510\n",
            "Epoch 3/10\n",
            "48000/48000 [==============================] - 21s 437us/step - loss: 0.1297 - accuracy: 0.9592\n",
            "Epoch 4/10\n",
            "48000/48000 [==============================] - 21s 437us/step - loss: 0.1118 - accuracy: 0.9649\n",
            "Epoch 5/10\n",
            "48000/48000 [==============================] - 21s 437us/step - loss: 0.0999 - accuracy: 0.9687\n",
            "Epoch 6/10\n",
            "48000/48000 [==============================] - 22s 461us/step - loss: 0.0892 - accuracy: 0.9722\n",
            "Epoch 7/10\n",
            "48000/48000 [==============================] - 21s 439us/step - loss: 0.0820 - accuracy: 0.9742\n",
            "Epoch 8/10\n",
            "48000/48000 [==============================] - 21s 442us/step - loss: 0.0776 - accuracy: 0.9753\n",
            "Epoch 9/10\n",
            "48000/48000 [==============================] - 22s 451us/step - loss: 0.0719 - accuracy: 0.9770\n",
            "Epoch 10/10\n",
            "48000/48000 [==============================] - 21s 443us/step - loss: 0.0682 - accuracy: 0.9784\n",
            "12000/12000 [==============================] - 3s 248us/step\n",
            "Epoch 1/10\n",
            "48000/48000 [==============================] - 21s 447us/step - loss: 0.3118 - accuracy: 0.9057\n",
            "Epoch 2/10\n",
            "48000/48000 [==============================] - 21s 436us/step - loss: 0.1624 - accuracy: 0.9505\n",
            "Epoch 3/10\n",
            "48000/48000 [==============================] - 21s 443us/step - loss: 0.1325 - accuracy: 0.9605\n",
            "Epoch 4/10\n",
            "48000/48000 [==============================] - 21s 439us/step - loss: 0.1082 - accuracy: 0.9658\n",
            "Epoch 5/10\n",
            "48000/48000 [==============================] - 21s 442us/step - loss: 0.0990 - accuracy: 0.9689\n",
            "Epoch 6/10\n",
            "48000/48000 [==============================] - 21s 442us/step - loss: 0.0890 - accuracy: 0.9724\n",
            "Epoch 7/10\n",
            "48000/48000 [==============================] - 21s 446us/step - loss: 0.0848 - accuracy: 0.9724\n",
            "Epoch 8/10\n",
            "48000/48000 [==============================] - 21s 440us/step - loss: 0.0777 - accuracy: 0.9752\n",
            "Epoch 9/10\n",
            "48000/48000 [==============================] - 21s 444us/step - loss: 0.0720 - accuracy: 0.9770\n",
            "Epoch 10/10\n",
            "48000/48000 [==============================] - 21s 442us/step - loss: 0.0680 - accuracy: 0.9793\n",
            "12000/12000 [==============================] - 3s 284us/step\n",
            "Epoch 1/10\n",
            "48000/48000 [==============================] - 22s 454us/step - loss: 0.3156 - accuracy: 0.9051\n",
            "Epoch 2/10\n",
            "48000/48000 [==============================] - 21s 443us/step - loss: 0.1647 - accuracy: 0.9504\n",
            "Epoch 3/10\n",
            "48000/48000 [==============================] - 22s 451us/step - loss: 0.1300 - accuracy: 0.9599\n",
            "Epoch 4/10\n",
            "48000/48000 [==============================] - 21s 448us/step - loss: 0.1115 - accuracy: 0.9646\n",
            "Epoch 5/10\n",
            "48000/48000 [==============================] - 21s 445us/step - loss: 0.0982 - accuracy: 0.9694\n",
            "Epoch 6/10\n",
            "48000/48000 [==============================] - 21s 447us/step - loss: 0.0909 - accuracy: 0.9705\n",
            "Epoch 7/10\n",
            "48000/48000 [==============================] - 21s 445us/step - loss: 0.0831 - accuracy: 0.9736\n",
            "Epoch 8/10\n",
            "48000/48000 [==============================] - 21s 444us/step - loss: 0.0775 - accuracy: 0.9752\n",
            "Epoch 9/10\n",
            "48000/48000 [==============================] - 21s 442us/step - loss: 0.0715 - accuracy: 0.9773\n",
            "Epoch 10/10\n",
            "48000/48000 [==============================] - 21s 443us/step - loss: 0.0666 - accuracy: 0.9784\n",
            "12000/12000 [==============================] - 3s 244us/step\n",
            "Epoch 1/10\n",
            "48000/48000 [==============================] - 22s 450us/step - loss: 0.3155 - accuracy: 0.9056\n",
            "Epoch 2/10\n",
            "48000/48000 [==============================] - 21s 448us/step - loss: 0.1629 - accuracy: 0.9503\n",
            "Epoch 3/10\n",
            "48000/48000 [==============================] - 22s 449us/step - loss: 0.1320 - accuracy: 0.9588\n",
            "Epoch 4/10\n",
            "48000/48000 [==============================] - 21s 444us/step - loss: 0.1107 - accuracy: 0.9660\n",
            "Epoch 5/10\n",
            "48000/48000 [==============================] - 22s 462us/step - loss: 0.0995 - accuracy: 0.9695\n",
            "Epoch 6/10\n",
            "48000/48000 [==============================] - 21s 444us/step - loss: 0.0887 - accuracy: 0.9714\n",
            "Epoch 7/10\n",
            "48000/48000 [==============================] - 22s 449us/step - loss: 0.0826 - accuracy: 0.9735\n",
            "Epoch 8/10\n",
            "48000/48000 [==============================] - 21s 445us/step - loss: 0.0776 - accuracy: 0.9752\n",
            "Epoch 9/10\n",
            "48000/48000 [==============================] - 21s 443us/step - loss: 0.0715 - accuracy: 0.9765\n",
            "Epoch 10/10\n",
            "48000/48000 [==============================] - 21s 447us/step - loss: 0.0702 - accuracy: 0.9774\n",
            "12000/12000 [==============================] - 3s 242us/step\n",
            "Epoch 1/10\n",
            "48000/48000 [==============================] - 22s 450us/step - loss: 0.3143 - accuracy: 0.9043\n",
            "Epoch 2/10\n",
            "48000/48000 [==============================] - 21s 444us/step - loss: 0.1633 - accuracy: 0.9504\n",
            "Epoch 3/10\n",
            "48000/48000 [==============================] - 21s 439us/step - loss: 0.1292 - accuracy: 0.9609\n",
            "Epoch 4/10\n",
            "48000/48000 [==============================] - 21s 442us/step - loss: 0.1097 - accuracy: 0.9649\n",
            "Epoch 5/10\n",
            "48000/48000 [==============================] - 21s 438us/step - loss: 0.0999 - accuracy: 0.9685\n",
            "Epoch 6/10\n",
            "48000/48000 [==============================] - 21s 438us/step - loss: 0.0881 - accuracy: 0.9725\n",
            "Epoch 7/10\n",
            "48000/48000 [==============================] - 21s 439us/step - loss: 0.0849 - accuracy: 0.9731\n",
            "Epoch 8/10\n",
            "48000/48000 [==============================] - 21s 440us/step - loss: 0.0750 - accuracy: 0.9766\n",
            "Epoch 9/10\n",
            "48000/48000 [==============================] - 22s 461us/step - loss: 0.0759 - accuracy: 0.9764\n",
            "Epoch 10/10\n",
            "48000/48000 [==============================] - 21s 446us/step - loss: 0.0703 - accuracy: 0.9779\n",
            "12000/12000 [==============================] - 3s 245us/step\n",
            "Epoch 1/10\n",
            "48000/48000 [==============================] - 24s 507us/step - loss: 0.5161 - accuracy: 0.8381\n",
            "Epoch 2/10\n",
            "48000/48000 [==============================] - 24s 497us/step - loss: 0.2497 - accuracy: 0.9300\n",
            "Epoch 3/10\n",
            "48000/48000 [==============================] - 24s 496us/step - loss: 0.1992 - accuracy: 0.9448\n",
            "Epoch 4/10\n",
            "48000/48000 [==============================] - 24s 495us/step - loss: 0.1665 - accuracy: 0.9544\n",
            "Epoch 5/10\n",
            "48000/48000 [==============================] - 24s 504us/step - loss: 0.1503 - accuracy: 0.9576\n",
            "Epoch 6/10\n",
            "48000/48000 [==============================] - 24s 494us/step - loss: 0.1389 - accuracy: 0.9623\n",
            "Epoch 7/10\n",
            "48000/48000 [==============================] - 24s 493us/step - loss: 0.1288 - accuracy: 0.9642\n",
            "Epoch 8/10\n",
            "48000/48000 [==============================] - 24s 495us/step - loss: 0.1211 - accuracy: 0.9669\n",
            "Epoch 9/10\n",
            "48000/48000 [==============================] - 23s 488us/step - loss: 0.1169 - accuracy: 0.9672\n",
            "Epoch 10/10\n",
            "48000/48000 [==============================] - 24s 502us/step - loss: 0.1129 - accuracy: 0.9686\n",
            "12000/12000 [==============================] - 3s 251us/step\n",
            "Epoch 1/10\n",
            "48000/48000 [==============================] - 24s 496us/step - loss: 0.4685 - accuracy: 0.8602\n",
            "Epoch 2/10\n",
            "48000/48000 [==============================] - 25s 515us/step - loss: 0.2372 - accuracy: 0.9326\n",
            "Epoch 3/10\n",
            "48000/48000 [==============================] - 24s 492us/step - loss: 0.1977 - accuracy: 0.9462\n",
            "Epoch 4/10\n",
            "48000/48000 [==============================] - 24s 501us/step - loss: 0.1624 - accuracy: 0.9551\n",
            "Epoch 5/10\n",
            "48000/48000 [==============================] - 23s 488us/step - loss: 0.1463 - accuracy: 0.9592\n",
            "Epoch 6/10\n",
            "48000/48000 [==============================] - 23s 487us/step - loss: 0.1332 - accuracy: 0.9613\n",
            "Epoch 7/10\n",
            "48000/48000 [==============================] - 23s 486us/step - loss: 0.1239 - accuracy: 0.9650\n",
            "Epoch 8/10\n",
            "48000/48000 [==============================] - 24s 490us/step - loss: 0.1221 - accuracy: 0.9659\n",
            "Epoch 9/10\n",
            "48000/48000 [==============================] - 23s 489us/step - loss: 0.1117 - accuracy: 0.9678\n",
            "Epoch 10/10\n",
            "48000/48000 [==============================] - 24s 493us/step - loss: 0.1074 - accuracy: 0.9695\n",
            "12000/12000 [==============================] - 3s 252us/step\n",
            "Epoch 1/10\n",
            "48000/48000 [==============================] - 24s 496us/step - loss: 0.4535 - accuracy: 0.8654\n",
            "Epoch 2/10\n",
            "48000/48000 [==============================] - 24s 495us/step - loss: 0.2306 - accuracy: 0.9365\n",
            "Epoch 3/10\n",
            "48000/48000 [==============================] - 24s 495us/step - loss: 0.1857 - accuracy: 0.9487\n",
            "Epoch 4/10\n",
            "48000/48000 [==============================] - 24s 493us/step - loss: 0.1629 - accuracy: 0.9550\n",
            "Epoch 5/10\n",
            "48000/48000 [==============================] - 25s 513us/step - loss: 0.1445 - accuracy: 0.9588\n",
            "Epoch 6/10\n",
            "48000/48000 [==============================] - 24s 494us/step - loss: 0.1320 - accuracy: 0.9626\n",
            "Epoch 7/10\n",
            "48000/48000 [==============================] - 24s 501us/step - loss: 0.1219 - accuracy: 0.9646\n",
            "Epoch 8/10\n",
            "48000/48000 [==============================] - 24s 494us/step - loss: 0.1143 - accuracy: 0.9674\n",
            "Epoch 9/10\n",
            "48000/48000 [==============================] - 24s 495us/step - loss: 0.1100 - accuracy: 0.9681\n",
            "Epoch 10/10\n",
            "48000/48000 [==============================] - 24s 498us/step - loss: 0.1070 - accuracy: 0.9686\n",
            "12000/12000 [==============================] - 3s 245us/step\n",
            "Epoch 1/10\n",
            "48000/48000 [==============================] - 24s 500us/step - loss: 0.4268 - accuracy: 0.8718\n",
            "Epoch 2/10\n",
            "48000/48000 [==============================] - 24s 496us/step - loss: 0.2213 - accuracy: 0.9390\n",
            "Epoch 3/10\n",
            "48000/48000 [==============================] - 24s 491us/step - loss: 0.1823 - accuracy: 0.9499\n",
            "Epoch 4/10\n",
            "48000/48000 [==============================] - 23s 488us/step - loss: 0.1517 - accuracy: 0.9585\n",
            "Epoch 5/10\n",
            "48000/48000 [==============================] - 24s 491us/step - loss: 0.1366 - accuracy: 0.9620\n",
            "Epoch 6/10\n",
            "48000/48000 [==============================] - 23s 487us/step - loss: 0.1271 - accuracy: 0.9639\n",
            "Epoch 7/10\n",
            "48000/48000 [==============================] - 23s 487us/step - loss: 0.1167 - accuracy: 0.9667\n",
            "Epoch 8/10\n",
            "48000/48000 [==============================] - 24s 502us/step - loss: 0.1079 - accuracy: 0.9688\n",
            "Epoch 9/10\n",
            "48000/48000 [==============================] - 24s 493us/step - loss: 0.1041 - accuracy: 0.9696\n",
            "Epoch 10/10\n",
            "48000/48000 [==============================] - 24s 491us/step - loss: 0.0978 - accuracy: 0.9724\n",
            "12000/12000 [==============================] - 3s 250us/step\n",
            "Epoch 1/10\n",
            "48000/48000 [==============================] - 24s 491us/step - loss: 0.4587 - accuracy: 0.8614\n",
            "Epoch 2/10\n",
            "48000/48000 [==============================] - 23s 488us/step - loss: 0.2307 - accuracy: 0.9348\n",
            "Epoch 3/10\n",
            "48000/48000 [==============================] - 23s 489us/step - loss: 0.1836 - accuracy: 0.9487\n",
            "Epoch 4/10\n",
            "48000/48000 [==============================] - 23s 490us/step - loss: 0.1563 - accuracy: 0.9552\n",
            "Epoch 5/10\n",
            "48000/48000 [==============================] - 24s 492us/step - loss: 0.1434 - accuracy: 0.9602\n",
            "Epoch 6/10\n",
            "48000/48000 [==============================] - 23s 487us/step - loss: 0.1287 - accuracy: 0.9631\n",
            "Epoch 7/10\n",
            "48000/48000 [==============================] - 24s 491us/step - loss: 0.1177 - accuracy: 0.9669\n",
            "Epoch 8/10\n",
            "48000/48000 [==============================] - 23s 487us/step - loss: 0.1107 - accuracy: 0.9681\n",
            "Epoch 9/10\n",
            "48000/48000 [==============================] - 23s 487us/step - loss: 0.1060 - accuracy: 0.9680\n",
            "Epoch 10/10\n",
            "48000/48000 [==============================] - 24s 492us/step - loss: 0.1005 - accuracy: 0.9713\n",
            "12000/12000 [==============================] - 3s 246us/step\n",
            "Epoch 1/10\n",
            "60000/60000 [==============================] - 28s 464us/step - loss: 0.2521 - accuracy: 0.9233\n",
            "Epoch 2/10\n",
            "60000/60000 [==============================] - 27s 452us/step - loss: 0.1280 - accuracy: 0.9613\n",
            "Epoch 3/10\n",
            "60000/60000 [==============================] - 27s 448us/step - loss: 0.0979 - accuracy: 0.9703\n",
            "Epoch 4/10\n",
            "60000/60000 [==============================] - 27s 448us/step - loss: 0.0835 - accuracy: 0.9742\n",
            "Epoch 5/10\n",
            "60000/60000 [==============================] - 27s 451us/step - loss: 0.0721 - accuracy: 0.9776\n",
            "Epoch 6/10\n",
            "60000/60000 [==============================] - 27s 451us/step - loss: 0.0665 - accuracy: 0.9795\n",
            "Epoch 7/10\n",
            "60000/60000 [==============================] - 27s 455us/step - loss: 0.0603 - accuracy: 0.9806\n",
            "Epoch 8/10\n",
            "60000/60000 [==============================] - 27s 452us/step - loss: 0.0561 - accuracy: 0.9825\n",
            "Epoch 9/10\n",
            "60000/60000 [==============================] - 28s 458us/step - loss: 0.0511 - accuracy: 0.9841\n",
            "Epoch 10/10\n",
            "60000/60000 [==============================] - 27s 455us/step - loss: 0.0466 - accuracy: 0.9851\n"
          ],
          "name": "stdout"
        }
      ]
    },
    {
      "cell_type": "code",
      "metadata": {
        "id": "ELqMmVAzY6-t",
        "colab_type": "code",
        "colab": {
          "base_uri": "https://localhost:8080/",
          "height": 68
        },
        "outputId": "e775bd42-bd2f-4a28-d808-330baf15f6df"
      },
      "source": [
        "print(\"Best Score:\",grid_result.best_score_)\n",
        "print(\"-------------------------------------------------------------\")\n",
        "print(\"Best Parameters selected:\",grid_result.best_params_)"
      ],
      "execution_count": null,
      "outputs": [
        {
          "output_type": "stream",
          "text": [
            "Best Score: 0.9745833396911621\n",
            "-------------------------------------------------------------\n",
            "Best Parameters selected: {'layers': (128, 64), 'epochs': 10, 'batch_size': 10, 'activation': 'relu'}\n"
          ],
          "name": "stdout"
        }
      ]
    },
    {
      "cell_type": "markdown",
      "metadata": {
        "id": "DyDKYex46eY3",
        "colab_type": "text"
      },
      "source": [
        "**So we have got the best hyper paramters that we will use to build our final model**"
      ]
    },
    {
      "cell_type": "code",
      "metadata": {
        "id": "0rtdrAvjrxva",
        "colab_type": "code",
        "colab": {}
      },
      "source": [
        "model=keras.Sequential()\n",
        "# Adding the input layer and the first hidden layer\n",
        "model.add(Dense(128,activation='relu',kernel_initializer = 'he_uniform',input_dim=784))\n",
        "\n",
        "# Adding the second hidden layer\n",
        "model.add(Dense(units = 64, kernel_initializer = 'he_uniform',activation='relu'))\n",
        "# Adding the output layer\n",
        "model.add(Dense(units= 10, kernel_initializer = 'glorot_uniform', activation = 'softmax'))"
      ],
      "execution_count": 16,
      "outputs": []
    },
    {
      "cell_type": "code",
      "metadata": {
        "id": "_-lEqtzK8DZN",
        "colab_type": "code",
        "colab": {}
      },
      "source": [
        "# Compiling the ANN\n",
        "model.compile(optimizer = 'Adamax', loss = 'categorical_crossentropy', metrics = ['accuracy'])"
      ],
      "execution_count": 17,
      "outputs": []
    },
    {
      "cell_type": "code",
      "metadata": {
        "id": "ZAm_nHF98J9d",
        "colab_type": "code",
        "colab": {
          "base_uri": "https://localhost:8080/",
          "height": 697
        },
        "outputId": "2c90cb4d-667c-4fa4-91c0-48309bbb9a35"
      },
      "source": [
        "from keras.utils import to_categorical\n",
        "# Fitting the ANN to the Training set\n",
        "model_history=model.fit(train_images,\n",
        "                             to_categorical(train_labels)\n",
        "                            ,batch_size = 10, \n",
        "                              epochs = 20)"
      ],
      "execution_count": 19,
      "outputs": [
        {
          "output_type": "stream",
          "text": [
            "Epoch 1/20\n",
            "60000/60000 [==============================] - 23s 392us/step - loss: 0.1960 - accuracy: 0.9437\n",
            "Epoch 2/20\n",
            "60000/60000 [==============================] - 24s 395us/step - loss: 0.1850 - accuracy: 0.9463\n",
            "Epoch 3/20\n",
            "60000/60000 [==============================] - 24s 396us/step - loss: 0.1754 - accuracy: 0.9488\n",
            "Epoch 4/20\n",
            "60000/60000 [==============================] - 24s 393us/step - loss: 0.1672 - accuracy: 0.9507\n",
            "Epoch 5/20\n",
            "60000/60000 [==============================] - 24s 400us/step - loss: 0.1597 - accuracy: 0.9533\n",
            "Epoch 6/20\n",
            "60000/60000 [==============================] - 23s 387us/step - loss: 0.1526 - accuracy: 0.9557\n",
            "Epoch 7/20\n",
            "60000/60000 [==============================] - 23s 388us/step - loss: 0.1469 - accuracy: 0.9572\n",
            "Epoch 8/20\n",
            "60000/60000 [==============================] - 23s 391us/step - loss: 0.1415 - accuracy: 0.9586\n",
            "Epoch 9/20\n",
            "60000/60000 [==============================] - 23s 387us/step - loss: 0.1365 - accuracy: 0.9601\n",
            "Epoch 10/20\n",
            "60000/60000 [==============================] - 23s 390us/step - loss: 0.1313 - accuracy: 0.9614\n",
            "Epoch 11/20\n",
            "60000/60000 [==============================] - 24s 392us/step - loss: 0.1267 - accuracy: 0.9633\n",
            "Epoch 12/20\n",
            "60000/60000 [==============================] - 24s 397us/step - loss: 0.1220 - accuracy: 0.9638\n",
            "Epoch 13/20\n",
            "60000/60000 [==============================] - 24s 399us/step - loss: 0.1183 - accuracy: 0.9655\n",
            "Epoch 14/20\n",
            "60000/60000 [==============================] - 23s 389us/step - loss: 0.1139 - accuracy: 0.9666\n",
            "Epoch 15/20\n",
            "60000/60000 [==============================] - 23s 389us/step - loss: 0.1111 - accuracy: 0.9676\n",
            "Epoch 16/20\n",
            "60000/60000 [==============================] - 23s 390us/step - loss: 0.1079 - accuracy: 0.9683\n",
            "Epoch 17/20\n",
            "60000/60000 [==============================] - 23s 388us/step - loss: 0.1045 - accuracy: 0.9693\n",
            "Epoch 18/20\n",
            "60000/60000 [==============================] - 24s 396us/step - loss: 0.1016 - accuracy: 0.9704\n",
            "Epoch 19/20\n",
            "60000/60000 [==============================] - 23s 388us/step - loss: 0.0987 - accuracy: 0.9711\n",
            "Epoch 20/20\n",
            "60000/60000 [==============================] - 23s 388us/step - loss: 0.0962 - accuracy: 0.9719\n"
          ],
          "name": "stdout"
        }
      ]
    },
    {
      "cell_type": "markdown",
      "metadata": {
        "id": "uhl49VgQ7huh",
        "colab_type": "text"
      },
      "source": [
        "We have got an accuracy of **97.19** on our training dataset"
      ]
    },
    {
      "cell_type": "code",
      "metadata": {
        "id": "77ogaV8M9zg2",
        "colab_type": "code",
        "colab": {
          "base_uri": "https://localhost:8080/",
          "height": 295
        },
        "outputId": "54a56191-10d1-4966-f23a-fca424484730"
      },
      "source": [
        "# summarize history for loss\n",
        "from matplotlib import pyplot as plt\n",
        "plt.plot(model_history.history['loss'])\n",
        "\n",
        "plt.title('model loss')\n",
        "plt.ylabel('loss')\n",
        "plt.xlabel('epoch')\n",
        "plt.legend(['train', 'test'], loc='upper left')\n",
        "plt.show()"
      ],
      "execution_count": 21,
      "outputs": [
        {
          "output_type": "display_data",
          "data": {
            "image/png": "[encoded data removed]",
            "text/plain": [
              "<Figure size 432x288 with 1 Axes>"
            ]
          },
          "metadata": {
            "tags": [],
            "needs_background": "light"
          }
        }
      ]
    },
    {
      "cell_type": "markdown",
      "metadata": {
        "id": "qvbntCr67r5H",
        "colab_type": "text"
      },
      "source": [
        "We will check for the acuraccy on testing dataset"
      ]
    },
    {
      "cell_type": "code",
      "metadata": {
        "id": "Dl9lTFzr8NTZ",
        "colab_type": "code",
        "colab": {
          "base_uri": "https://localhost:8080/",
          "height": 51
        },
        "outputId": "c5afe209-c1e7-4c50-8467-916c976dd288"
      },
      "source": [
        "model.evaluate(test_images,to_categorical(test_labels))"
      ],
      "execution_count": 22,
      "outputs": [
        {
          "output_type": "stream",
          "text": [
            "10000/10000 [==============================] - 1s 77us/step\n"
          ],
          "name": "stdout"
        },
        {
          "output_type": "execute_result",
          "data": {
            "text/plain": [
              "[0.11262822444960476, 0.9664000272750854]"
            ]
          },
          "metadata": {
            "tags": []
          },
          "execution_count": 22
        }
      ]
    },
    {
      "cell_type": "markdown",
      "metadata": {
        "id": "OYoWsf0R72RD",
        "colab_type": "text"
      },
      "source": [
        "### Prediction"
      ]
    },
    {
      "cell_type": "code",
      "metadata": {
        "id": "8TBqhgZ29ONL",
        "colab_type": "code",
        "colab": {}
      },
      "source": [
        "ans=model.predict(test_kaggle)"
      ],
      "execution_count": 23,
      "outputs": []
    },
    {
      "cell_type": "code",
      "metadata": {
        "id": "R4apJ56r9q3k",
        "colab_type": "code",
        "colab": {}
      },
      "source": [
        "import numpy as np\n",
        "ans=np.argmax(ans,axis=1)\n"
      ],
      "execution_count": 24,
      "outputs": []
    },
    {
      "cell_type": "code",
      "metadata": {
        "id": "pR3-I9DF9r50",
        "colab_type": "code",
        "colab": {
          "base_uri": "https://localhost:8080/",
          "height": 34
        },
        "outputId": "1dda8a51-8362-497a-d3ef-427bdc605ff4"
      },
      "source": [
        "ans[:5]"
      ],
      "execution_count": 25,
      "outputs": [
        {
          "output_type": "execute_result",
          "data": {
            "text/plain": [
              "array([2, 0, 9, 2, 3])"
            ]
          },
          "metadata": {
            "tags": []
          },
          "execution_count": 25
        }
      ]
    },
    {
      "cell_type": "code",
      "metadata": {
        "id": "eOdVNpj48eNY",
        "colab_type": "code",
        "colab": {}
      },
      "source": [
        "predicted_classes = model.predict_classes(test_kaggle)\n",
        "submissions=pd.DataFrame({\"ImageId\": list(range(1,len(predicted_classes)+1)),\n",
        "                         \"Label\": predicted_classes})\n",
        "submissions.to_csv(\"subbmision2.csv\", index=False, header=True)"
      ],
      "execution_count": 26,
      "outputs": []
    },
    {
      "cell_type": "code",
      "metadata": {
        "id": "4j6hd2XL8xAM",
        "colab_type": "code",
        "colab": {
          "base_uri": "https://localhost:8080/",
          "height": 34
        },
        "outputId": "8c89522b-9bad-4c3e-a95a-1a0921c107d2"
      },
      "source": [
        "ls"
      ],
      "execution_count": 43,
      "outputs": [
        {
          "output_type": "stream",
          "text": [
            "\u001b[0m\u001b[01;34mdrive\u001b[0m/  \u001b[01;34msample_data\u001b[0m/  subbmision2.csv  test.csv  train.csv\n"
          ],
          "name": "stdout"
        }
      ]
    },
    {
      "cell_type": "code",
      "metadata": {
        "id": "7YmOhjic9jnW",
        "colab_type": "code",
        "colab": {}
      },
      "source": [
        ""
      ],
      "execution_count": null,
      "outputs": []
    }
  ]
}