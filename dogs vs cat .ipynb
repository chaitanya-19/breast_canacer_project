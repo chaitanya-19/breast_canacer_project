{
 "cells": [
  {
   "cell_type": "markdown",
   "metadata": {},
   "source": [
    "# Dog vs Cat"
   ]
  },
  {
   "cell_type": "markdown",
   "metadata": {},
   "source": [
    "**Competition Description**"
   ]
  },
  {
   "cell_type": "markdown",
   "metadata": {},
   "source": [
    "In this competition, you'll write an algorithm to classify whether images contain either a dog or a cat.  This is easy for humans, dogs, and cats. Your computer will find it a bit more difficult."
   ]
  },
  {
   "cell_type": "code",
   "execution_count": 1,
   "metadata": {},
   "outputs": [
    {
     "data": {
      "text/html": [
       "<img src=\"https://storage.googleapis.com/kaggle-competitions/kaggle/3362/media/woof_meow.jpg\"/>"
      ],
      "text/plain": [
       "<IPython.core.display.Image object>"
      ]
     },
     "execution_count": 1,
     "metadata": {},
     "output_type": "execute_result"
    }
   ],
   "source": [
    "from IPython.display import Image\n",
    "Image(url= \"https://storage.googleapis.com/kaggle-competitions/kaggle/3362/media/woof_meow.jpg\")"
   ]
  },
  {
   "cell_type": "markdown",
   "metadata": {},
   "source": [
    "## Collecting the Data¶"
   ]
  },
  {
   "cell_type": "markdown",
   "metadata": {},
   "source": [
    "training data set and testing data set are given by Kaggle you can download from kaggle directly\n",
    "\n",
    "link-https://www.kaggle.com/c/dogs-vs-catsdata"
   ]
  },
  {
   "cell_type": "markdown",
   "metadata": {},
   "source": [
    "## Data Preprocessing"
   ]
  },
  {
   "cell_type": "code",
   "execution_count": 2,
   "metadata": {},
   "outputs": [],
   "source": [
    "import numpy as np\n",
    "import os\n",
    "from random import shuffle\n",
    "from PIL import Image ,ImageOps\n",
    "import pandas as pd\n"
   ]
  },
  {
   "cell_type": "code",
   "execution_count": 3,
   "metadata": {},
   "outputs": [],
   "source": [
    "train_dir='E:\\\\data\\\\dog vs cat\\\\train'"
   ]
  },
  {
   "cell_type": "markdown",
   "metadata": {},
   "source": [
    "**We have to extract the target variable if it is cat or dog and label them accordingly**"
   ]
  },
  {
   "cell_type": "code",
   "execution_count": 4,
   "metadata": {},
   "outputs": [],
   "source": [
    "def label_images(img):\n",
    "    word_label=img.split('.')[-3]\n",
    "    #if word_label == 'dog ': return 1\n",
    "    if word_label == 'cat': return 0\n",
    "    else : return 1"
   ]
  },
  {
   "cell_type": "code",
   "execution_count": 5,
   "metadata": {},
   "outputs": [],
   "source": [
    "def extract_lables():\n",
    "    \n",
    "    train_label=[]\n",
    "    for img in os.listdir(train_dir):\n",
    "        label=label_images(img)\n",
    "        \n",
    "        train_label.append(np.array(label))\n",
    "\n",
    "    return train_label\n",
    "    "
   ]
  },
  {
   "cell_type": "code",
   "execution_count": 6,
   "metadata": {},
   "outputs": [
    {
     "data": {
      "text/plain": [
       "array([0, 0, 0, ..., 1, 1, 1])"
      ]
     },
     "execution_count": 6,
     "metadata": {},
     "output_type": "execute_result"
    }
   ],
   "source": [
    "train_lables=extract_lables()\n",
    "train_lables=np.array(train_lables)\n",
    "train_lables"
   ]
  },
  {
   "cell_type": "code",
   "execution_count": 7,
   "metadata": {},
   "outputs": [
    {
     "data": {
      "text/plain": [
       "array([[1., 0.],\n",
       "       [1., 0.],\n",
       "       [1., 0.],\n",
       "       ...,\n",
       "       [0., 1.],\n",
       "       [0., 1.],\n",
       "       [0., 1.]], dtype=float32)"
      ]
     },
     "execution_count": 7,
     "metadata": {},
     "output_type": "execute_result"
    }
   ],
   "source": [
    "from tensorflow.keras.utils import to_categorical\n",
    "to_categorical(train_lables)"
   ]
  },
  {
   "cell_type": "markdown",
   "metadata": {},
   "source": [
    "**We have extracted the target variable and made a data frame of it**"
   ]
  },
  {
   "cell_type": "code",
   "execution_count": 8,
   "metadata": {},
   "outputs": [
    {
     "data": {
      "text/html": [
       "<div>\n",
       "<style scoped>\n",
       "    .dataframe tbody tr th:only-of-type {\n",
       "        vertical-align: middle;\n",
       "    }\n",
       "\n",
       "    .dataframe tbody tr th {\n",
       "        vertical-align: top;\n",
       "    }\n",
       "\n",
       "    .dataframe thead th {\n",
       "        text-align: right;\n",
       "    }\n",
       "</style>\n",
       "<table border=\"1\" class=\"dataframe\">\n",
       "  <thead>\n",
       "    <tr style=\"text-align: right;\">\n",
       "      <th></th>\n",
       "      <th>target</th>\n",
       "    </tr>\n",
       "  </thead>\n",
       "  <tbody>\n",
       "    <tr>\n",
       "      <th>0</th>\n",
       "      <td>0</td>\n",
       "    </tr>\n",
       "    <tr>\n",
       "      <th>1</th>\n",
       "      <td>0</td>\n",
       "    </tr>\n",
       "    <tr>\n",
       "      <th>2</th>\n",
       "      <td>0</td>\n",
       "    </tr>\n",
       "    <tr>\n",
       "      <th>3</th>\n",
       "      <td>0</td>\n",
       "    </tr>\n",
       "    <tr>\n",
       "      <th>4</th>\n",
       "      <td>0</td>\n",
       "    </tr>\n",
       "    <tr>\n",
       "      <th>...</th>\n",
       "      <td>...</td>\n",
       "    </tr>\n",
       "    <tr>\n",
       "      <th>24995</th>\n",
       "      <td>1</td>\n",
       "    </tr>\n",
       "    <tr>\n",
       "      <th>24996</th>\n",
       "      <td>1</td>\n",
       "    </tr>\n",
       "    <tr>\n",
       "      <th>24997</th>\n",
       "      <td>1</td>\n",
       "    </tr>\n",
       "    <tr>\n",
       "      <th>24998</th>\n",
       "      <td>1</td>\n",
       "    </tr>\n",
       "    <tr>\n",
       "      <th>24999</th>\n",
       "      <td>1</td>\n",
       "    </tr>\n",
       "  </tbody>\n",
       "</table>\n",
       "<p>25000 rows × 1 columns</p>\n",
       "</div>"
      ],
      "text/plain": [
       "       target\n",
       "0           0\n",
       "1           0\n",
       "2           0\n",
       "3           0\n",
       "4           0\n",
       "...       ...\n",
       "24995       1\n",
       "24996       1\n",
       "24997       1\n",
       "24998       1\n",
       "24999       1\n",
       "\n",
       "[25000 rows x 1 columns]"
      ]
     },
     "execution_count": 8,
     "metadata": {},
     "output_type": "execute_result"
    }
   ],
   "source": [
    "df_label=pd.DataFrame(train_lables,columns=['target'])\n",
    "df_label"
   ]
  },
  {
   "cell_type": "markdown",
   "metadata": {},
   "source": [
    "**Now we have to extract the pixel values of data so that we can feed it to the CNN model firstly we resize the image to a 50*50 image then we have to convert it into gray scale after which we convert it into a 1d array for all the images to  feed into our CNN**"
   ]
  },
  {
   "cell_type": "code",
   "execution_count": 9,
   "metadata": {},
   "outputs": [],
   "source": [
    "def extract_pixcels():\n",
    "    train_data=[]\n",
    "   \n",
    "    for img in os.listdir(train_dir):\n",
    "        \n",
    "        path=os.path.join(train_dir,img)\n",
    "        img = Image.open(path)\n",
    "        size=(50,50)\n",
    "        img= img.resize(size)\n",
    "        img=ImageOps.grayscale(img)\n",
    "        img=np.array(img)\n",
    "        img=img.flatten()\n",
    "        img=np.array(img)\n",
    "        train_data.append(img)\n",
    "      \n",
    "    \n",
    "    return train_data"
   ]
  },
  {
   "cell_type": "code",
   "execution_count": 10,
   "metadata": {},
   "outputs": [
    {
     "data": {
      "text/plain": [
       "array([[171, 179, 186, ...,   2,   2,   2],\n",
       "       [ 41,  48,  42, ...,  59,  58,  40],\n",
       "       [ 42,  49,  55, ..., 143, 164, 164],\n",
       "       ...,\n",
       "       [ 43,  50,  55, ..., 138, 136, 146],\n",
       "       [251, 239, 206, ..., 106, 111, 116],\n",
       "       [246, 246, 244, ..., 254, 254, 254]], dtype=uint8)"
      ]
     },
     "execution_count": 10,
     "metadata": {},
     "output_type": "execute_result"
    }
   ],
   "source": [
    "train_data=extract_pixcels()\n",
    "train_data=np.array(train_data)\n",
    "train_data"
   ]
  },
  {
   "cell_type": "markdown",
   "metadata": {},
   "source": [
    "We first convert the values of pixels between 0 and 1 by dividing it by 255"
   ]
  },
  {
   "cell_type": "code",
   "execution_count": 11,
   "metadata": {},
   "outputs": [],
   "source": [
    "train_data=train_data/255"
   ]
  },
  {
   "cell_type": "code",
   "execution_count": 12,
   "metadata": {},
   "outputs": [],
   "source": [
    "\n",
    "x = train_data.reshape(-1, 50, 50, 1)"
   ]
  },
  {
   "cell_type": "markdown",
   "metadata": {},
   "source": [
    "**Now we represent the data in form of a data frame so that we can feed it to our CNN**"
   ]
  },
  {
   "cell_type": "code",
   "execution_count": 13,
   "metadata": {},
   "outputs": [
    {
     "data": {
      "text/html": [
       "<div>\n",
       "<style scoped>\n",
       "    .dataframe tbody tr th:only-of-type {\n",
       "        vertical-align: middle;\n",
       "    }\n",
       "\n",
       "    .dataframe tbody tr th {\n",
       "        vertical-align: top;\n",
       "    }\n",
       "\n",
       "    .dataframe thead th {\n",
       "        text-align: right;\n",
       "    }\n",
       "</style>\n",
       "<table border=\"1\" class=\"dataframe\">\n",
       "  <thead>\n",
       "    <tr style=\"text-align: right;\">\n",
       "      <th></th>\n",
       "      <th>0</th>\n",
       "      <th>1</th>\n",
       "      <th>2</th>\n",
       "      <th>3</th>\n",
       "      <th>4</th>\n",
       "      <th>5</th>\n",
       "      <th>6</th>\n",
       "      <th>7</th>\n",
       "      <th>8</th>\n",
       "      <th>9</th>\n",
       "      <th>...</th>\n",
       "      <th>2490</th>\n",
       "      <th>2491</th>\n",
       "      <th>2492</th>\n",
       "      <th>2493</th>\n",
       "      <th>2494</th>\n",
       "      <th>2495</th>\n",
       "      <th>2496</th>\n",
       "      <th>2497</th>\n",
       "      <th>2498</th>\n",
       "      <th>2499</th>\n",
       "    </tr>\n",
       "  </thead>\n",
       "  <tbody>\n",
       "    <tr>\n",
       "      <th>0</th>\n",
       "      <td>0.670588</td>\n",
       "      <td>0.701961</td>\n",
       "      <td>0.729412</td>\n",
       "      <td>0.756863</td>\n",
       "      <td>0.772549</td>\n",
       "      <td>0.788235</td>\n",
       "      <td>0.803922</td>\n",
       "      <td>0.815686</td>\n",
       "      <td>0.827451</td>\n",
       "      <td>0.847059</td>\n",
       "      <td>...</td>\n",
       "      <td>0.070588</td>\n",
       "      <td>0.074510</td>\n",
       "      <td>0.054902</td>\n",
       "      <td>0.035294</td>\n",
       "      <td>0.015686</td>\n",
       "      <td>0.015686</td>\n",
       "      <td>0.011765</td>\n",
       "      <td>0.007843</td>\n",
       "      <td>0.007843</td>\n",
       "      <td>0.007843</td>\n",
       "    </tr>\n",
       "    <tr>\n",
       "      <th>1</th>\n",
       "      <td>0.160784</td>\n",
       "      <td>0.188235</td>\n",
       "      <td>0.164706</td>\n",
       "      <td>0.180392</td>\n",
       "      <td>0.188235</td>\n",
       "      <td>0.188235</td>\n",
       "      <td>0.156863</td>\n",
       "      <td>0.164706</td>\n",
       "      <td>0.152941</td>\n",
       "      <td>0.172549</td>\n",
       "      <td>...</td>\n",
       "      <td>0.203922</td>\n",
       "      <td>0.211765</td>\n",
       "      <td>0.231373</td>\n",
       "      <td>0.231373</td>\n",
       "      <td>0.192157</td>\n",
       "      <td>0.207843</td>\n",
       "      <td>0.219608</td>\n",
       "      <td>0.231373</td>\n",
       "      <td>0.227451</td>\n",
       "      <td>0.156863</td>\n",
       "    </tr>\n",
       "    <tr>\n",
       "      <th>2</th>\n",
       "      <td>0.164706</td>\n",
       "      <td>0.192157</td>\n",
       "      <td>0.215686</td>\n",
       "      <td>0.227451</td>\n",
       "      <td>0.223529</td>\n",
       "      <td>0.219608</td>\n",
       "      <td>0.215686</td>\n",
       "      <td>0.207843</td>\n",
       "      <td>0.192157</td>\n",
       "      <td>0.188235</td>\n",
       "      <td>...</td>\n",
       "      <td>0.298039</td>\n",
       "      <td>0.290196</td>\n",
       "      <td>0.286275</td>\n",
       "      <td>0.286275</td>\n",
       "      <td>0.419608</td>\n",
       "      <td>0.576471</td>\n",
       "      <td>0.580392</td>\n",
       "      <td>0.560784</td>\n",
       "      <td>0.643137</td>\n",
       "      <td>0.643137</td>\n",
       "    </tr>\n",
       "    <tr>\n",
       "      <th>3</th>\n",
       "      <td>0.870588</td>\n",
       "      <td>0.878431</td>\n",
       "      <td>0.905882</td>\n",
       "      <td>0.901961</td>\n",
       "      <td>0.890196</td>\n",
       "      <td>0.894118</td>\n",
       "      <td>0.898039</td>\n",
       "      <td>0.894118</td>\n",
       "      <td>0.890196</td>\n",
       "      <td>0.882353</td>\n",
       "      <td>...</td>\n",
       "      <td>0.976471</td>\n",
       "      <td>0.956863</td>\n",
       "      <td>0.941176</td>\n",
       "      <td>0.909804</td>\n",
       "      <td>0.890196</td>\n",
       "      <td>0.843137</td>\n",
       "      <td>0.796078</td>\n",
       "      <td>0.827451</td>\n",
       "      <td>0.858824</td>\n",
       "      <td>0.831373</td>\n",
       "    </tr>\n",
       "    <tr>\n",
       "      <th>4</th>\n",
       "      <td>0.419608</td>\n",
       "      <td>0.396078</td>\n",
       "      <td>0.337255</td>\n",
       "      <td>0.470588</td>\n",
       "      <td>0.576471</td>\n",
       "      <td>0.615686</td>\n",
       "      <td>0.803922</td>\n",
       "      <td>0.878431</td>\n",
       "      <td>0.737255</td>\n",
       "      <td>0.925490</td>\n",
       "      <td>...</td>\n",
       "      <td>0.372549</td>\n",
       "      <td>0.388235</td>\n",
       "      <td>0.364706</td>\n",
       "      <td>0.372549</td>\n",
       "      <td>0.380392</td>\n",
       "      <td>0.337255</td>\n",
       "      <td>0.321569</td>\n",
       "      <td>0.396078</td>\n",
       "      <td>0.364706</td>\n",
       "      <td>0.329412</td>\n",
       "    </tr>\n",
       "    <tr>\n",
       "      <th>...</th>\n",
       "      <td>...</td>\n",
       "      <td>...</td>\n",
       "      <td>...</td>\n",
       "      <td>...</td>\n",
       "      <td>...</td>\n",
       "      <td>...</td>\n",
       "      <td>...</td>\n",
       "      <td>...</td>\n",
       "      <td>...</td>\n",
       "      <td>...</td>\n",
       "      <td>...</td>\n",
       "      <td>...</td>\n",
       "      <td>...</td>\n",
       "      <td>...</td>\n",
       "      <td>...</td>\n",
       "      <td>...</td>\n",
       "      <td>...</td>\n",
       "      <td>...</td>\n",
       "      <td>...</td>\n",
       "      <td>...</td>\n",
       "      <td>...</td>\n",
       "    </tr>\n",
       "    <tr>\n",
       "      <th>24995</th>\n",
       "      <td>0.552941</td>\n",
       "      <td>0.564706</td>\n",
       "      <td>0.576471</td>\n",
       "      <td>0.580392</td>\n",
       "      <td>0.584314</td>\n",
       "      <td>0.592157</td>\n",
       "      <td>0.596078</td>\n",
       "      <td>0.600000</td>\n",
       "      <td>0.607843</td>\n",
       "      <td>0.619608</td>\n",
       "      <td>...</td>\n",
       "      <td>0.627451</td>\n",
       "      <td>0.635294</td>\n",
       "      <td>0.639216</td>\n",
       "      <td>0.639216</td>\n",
       "      <td>0.643137</td>\n",
       "      <td>0.643137</td>\n",
       "      <td>0.650980</td>\n",
       "      <td>0.654902</td>\n",
       "      <td>0.658824</td>\n",
       "      <td>0.662745</td>\n",
       "    </tr>\n",
       "    <tr>\n",
       "      <th>24996</th>\n",
       "      <td>0.352941</td>\n",
       "      <td>0.349020</td>\n",
       "      <td>0.388235</td>\n",
       "      <td>0.372549</td>\n",
       "      <td>0.345098</td>\n",
       "      <td>0.298039</td>\n",
       "      <td>0.301961</td>\n",
       "      <td>0.352941</td>\n",
       "      <td>0.356863</td>\n",
       "      <td>0.380392</td>\n",
       "      <td>...</td>\n",
       "      <td>0.176471</td>\n",
       "      <td>0.247059</td>\n",
       "      <td>0.274510</td>\n",
       "      <td>0.321569</td>\n",
       "      <td>0.352941</td>\n",
       "      <td>0.364706</td>\n",
       "      <td>0.349020</td>\n",
       "      <td>0.313725</td>\n",
       "      <td>0.352941</td>\n",
       "      <td>0.325490</td>\n",
       "    </tr>\n",
       "    <tr>\n",
       "      <th>24997</th>\n",
       "      <td>0.168627</td>\n",
       "      <td>0.196078</td>\n",
       "      <td>0.215686</td>\n",
       "      <td>0.200000</td>\n",
       "      <td>0.160784</td>\n",
       "      <td>0.176471</td>\n",
       "      <td>0.203922</td>\n",
       "      <td>0.188235</td>\n",
       "      <td>0.400000</td>\n",
       "      <td>0.435294</td>\n",
       "      <td>...</td>\n",
       "      <td>0.615686</td>\n",
       "      <td>0.654902</td>\n",
       "      <td>0.415686</td>\n",
       "      <td>0.556863</td>\n",
       "      <td>0.533333</td>\n",
       "      <td>0.521569</td>\n",
       "      <td>0.458824</td>\n",
       "      <td>0.541176</td>\n",
       "      <td>0.533333</td>\n",
       "      <td>0.572549</td>\n",
       "    </tr>\n",
       "    <tr>\n",
       "      <th>24998</th>\n",
       "      <td>0.984314</td>\n",
       "      <td>0.937255</td>\n",
       "      <td>0.807843</td>\n",
       "      <td>0.568627</td>\n",
       "      <td>0.392157</td>\n",
       "      <td>0.349020</td>\n",
       "      <td>0.341176</td>\n",
       "      <td>0.364706</td>\n",
       "      <td>0.321569</td>\n",
       "      <td>0.317647</td>\n",
       "      <td>...</td>\n",
       "      <td>0.454902</td>\n",
       "      <td>0.396078</td>\n",
       "      <td>0.364706</td>\n",
       "      <td>0.380392</td>\n",
       "      <td>0.396078</td>\n",
       "      <td>0.407843</td>\n",
       "      <td>0.411765</td>\n",
       "      <td>0.415686</td>\n",
       "      <td>0.435294</td>\n",
       "      <td>0.454902</td>\n",
       "    </tr>\n",
       "    <tr>\n",
       "      <th>24999</th>\n",
       "      <td>0.964706</td>\n",
       "      <td>0.964706</td>\n",
       "      <td>0.956863</td>\n",
       "      <td>0.972549</td>\n",
       "      <td>0.972549</td>\n",
       "      <td>0.960784</td>\n",
       "      <td>0.956863</td>\n",
       "      <td>0.964706</td>\n",
       "      <td>0.988235</td>\n",
       "      <td>0.988235</td>\n",
       "      <td>...</td>\n",
       "      <td>1.000000</td>\n",
       "      <td>1.000000</td>\n",
       "      <td>0.996078</td>\n",
       "      <td>0.996078</td>\n",
       "      <td>0.996078</td>\n",
       "      <td>0.996078</td>\n",
       "      <td>0.996078</td>\n",
       "      <td>0.996078</td>\n",
       "      <td>0.996078</td>\n",
       "      <td>0.996078</td>\n",
       "    </tr>\n",
       "  </tbody>\n",
       "</table>\n",
       "<p>25000 rows × 2500 columns</p>\n",
       "</div>"
      ],
      "text/plain": [
       "           0         1         2         3         4         5         6     \\\n",
       "0      0.670588  0.701961  0.729412  0.756863  0.772549  0.788235  0.803922   \n",
       "1      0.160784  0.188235  0.164706  0.180392  0.188235  0.188235  0.156863   \n",
       "2      0.164706  0.192157  0.215686  0.227451  0.223529  0.219608  0.215686   \n",
       "3      0.870588  0.878431  0.905882  0.901961  0.890196  0.894118  0.898039   \n",
       "4      0.419608  0.396078  0.337255  0.470588  0.576471  0.615686  0.803922   \n",
       "...         ...       ...       ...       ...       ...       ...       ...   \n",
       "24995  0.552941  0.564706  0.576471  0.580392  0.584314  0.592157  0.596078   \n",
       "24996  0.352941  0.349020  0.388235  0.372549  0.345098  0.298039  0.301961   \n",
       "24997  0.168627  0.196078  0.215686  0.200000  0.160784  0.176471  0.203922   \n",
       "24998  0.984314  0.937255  0.807843  0.568627  0.392157  0.349020  0.341176   \n",
       "24999  0.964706  0.964706  0.956863  0.972549  0.972549  0.960784  0.956863   \n",
       "\n",
       "           7         8         9     ...      2490      2491      2492  \\\n",
       "0      0.815686  0.827451  0.847059  ...  0.070588  0.074510  0.054902   \n",
       "1      0.164706  0.152941  0.172549  ...  0.203922  0.211765  0.231373   \n",
       "2      0.207843  0.192157  0.188235  ...  0.298039  0.290196  0.286275   \n",
       "3      0.894118  0.890196  0.882353  ...  0.976471  0.956863  0.941176   \n",
       "4      0.878431  0.737255  0.925490  ...  0.372549  0.388235  0.364706   \n",
       "...         ...       ...       ...  ...       ...       ...       ...   \n",
       "24995  0.600000  0.607843  0.619608  ...  0.627451  0.635294  0.639216   \n",
       "24996  0.352941  0.356863  0.380392  ...  0.176471  0.247059  0.274510   \n",
       "24997  0.188235  0.400000  0.435294  ...  0.615686  0.654902  0.415686   \n",
       "24998  0.364706  0.321569  0.317647  ...  0.454902  0.396078  0.364706   \n",
       "24999  0.964706  0.988235  0.988235  ...  1.000000  1.000000  0.996078   \n",
       "\n",
       "           2493      2494      2495      2496      2497      2498      2499  \n",
       "0      0.035294  0.015686  0.015686  0.011765  0.007843  0.007843  0.007843  \n",
       "1      0.231373  0.192157  0.207843  0.219608  0.231373  0.227451  0.156863  \n",
       "2      0.286275  0.419608  0.576471  0.580392  0.560784  0.643137  0.643137  \n",
       "3      0.909804  0.890196  0.843137  0.796078  0.827451  0.858824  0.831373  \n",
       "4      0.372549  0.380392  0.337255  0.321569  0.396078  0.364706  0.329412  \n",
       "...         ...       ...       ...       ...       ...       ...       ...  \n",
       "24995  0.639216  0.643137  0.643137  0.650980  0.654902  0.658824  0.662745  \n",
       "24996  0.321569  0.352941  0.364706  0.349020  0.313725  0.352941  0.325490  \n",
       "24997  0.556863  0.533333  0.521569  0.458824  0.541176  0.533333  0.572549  \n",
       "24998  0.380392  0.396078  0.407843  0.411765  0.415686  0.435294  0.454902  \n",
       "24999  0.996078  0.996078  0.996078  0.996078  0.996078  0.996078  0.996078  \n",
       "\n",
       "[25000 rows x 2500 columns]"
      ]
     },
     "execution_count": 13,
     "metadata": {},
     "output_type": "execute_result"
    }
   ],
   "source": [
    "import pandas as pd\n",
    "df=pd.DataFrame(train_data)\n",
    "df"
   ]
  },
  {
   "cell_type": "code",
   "execution_count": 14,
   "metadata": {},
   "outputs": [],
   "source": [
    " final=pd.concat([df, df_label], axis=1)"
   ]
  },
  {
   "cell_type": "code",
   "execution_count": 15,
   "metadata": {},
   "outputs": [
    {
     "data": {
      "text/html": [
       "<div>\n",
       "<style scoped>\n",
       "    .dataframe tbody tr th:only-of-type {\n",
       "        vertical-align: middle;\n",
       "    }\n",
       "\n",
       "    .dataframe tbody tr th {\n",
       "        vertical-align: top;\n",
       "    }\n",
       "\n",
       "    .dataframe thead th {\n",
       "        text-align: right;\n",
       "    }\n",
       "</style>\n",
       "<table border=\"1\" class=\"dataframe\">\n",
       "  <thead>\n",
       "    <tr style=\"text-align: right;\">\n",
       "      <th></th>\n",
       "      <th>0</th>\n",
       "      <th>1</th>\n",
       "      <th>2</th>\n",
       "      <th>3</th>\n",
       "      <th>4</th>\n",
       "      <th>5</th>\n",
       "      <th>6</th>\n",
       "      <th>7</th>\n",
       "      <th>8</th>\n",
       "      <th>9</th>\n",
       "      <th>...</th>\n",
       "      <th>2491</th>\n",
       "      <th>2492</th>\n",
       "      <th>2493</th>\n",
       "      <th>2494</th>\n",
       "      <th>2495</th>\n",
       "      <th>2496</th>\n",
       "      <th>2497</th>\n",
       "      <th>2498</th>\n",
       "      <th>2499</th>\n",
       "      <th>target</th>\n",
       "    </tr>\n",
       "  </thead>\n",
       "  <tbody>\n",
       "    <tr>\n",
       "      <th>0</th>\n",
       "      <td>0.670588</td>\n",
       "      <td>0.701961</td>\n",
       "      <td>0.729412</td>\n",
       "      <td>0.756863</td>\n",
       "      <td>0.772549</td>\n",
       "      <td>0.788235</td>\n",
       "      <td>0.803922</td>\n",
       "      <td>0.815686</td>\n",
       "      <td>0.827451</td>\n",
       "      <td>0.847059</td>\n",
       "      <td>...</td>\n",
       "      <td>0.074510</td>\n",
       "      <td>0.054902</td>\n",
       "      <td>0.035294</td>\n",
       "      <td>0.015686</td>\n",
       "      <td>0.015686</td>\n",
       "      <td>0.011765</td>\n",
       "      <td>0.007843</td>\n",
       "      <td>0.007843</td>\n",
       "      <td>0.007843</td>\n",
       "      <td>0</td>\n",
       "    </tr>\n",
       "    <tr>\n",
       "      <th>1</th>\n",
       "      <td>0.160784</td>\n",
       "      <td>0.188235</td>\n",
       "      <td>0.164706</td>\n",
       "      <td>0.180392</td>\n",
       "      <td>0.188235</td>\n",
       "      <td>0.188235</td>\n",
       "      <td>0.156863</td>\n",
       "      <td>0.164706</td>\n",
       "      <td>0.152941</td>\n",
       "      <td>0.172549</td>\n",
       "      <td>...</td>\n",
       "      <td>0.211765</td>\n",
       "      <td>0.231373</td>\n",
       "      <td>0.231373</td>\n",
       "      <td>0.192157</td>\n",
       "      <td>0.207843</td>\n",
       "      <td>0.219608</td>\n",
       "      <td>0.231373</td>\n",
       "      <td>0.227451</td>\n",
       "      <td>0.156863</td>\n",
       "      <td>0</td>\n",
       "    </tr>\n",
       "    <tr>\n",
       "      <th>2</th>\n",
       "      <td>0.164706</td>\n",
       "      <td>0.192157</td>\n",
       "      <td>0.215686</td>\n",
       "      <td>0.227451</td>\n",
       "      <td>0.223529</td>\n",
       "      <td>0.219608</td>\n",
       "      <td>0.215686</td>\n",
       "      <td>0.207843</td>\n",
       "      <td>0.192157</td>\n",
       "      <td>0.188235</td>\n",
       "      <td>...</td>\n",
       "      <td>0.290196</td>\n",
       "      <td>0.286275</td>\n",
       "      <td>0.286275</td>\n",
       "      <td>0.419608</td>\n",
       "      <td>0.576471</td>\n",
       "      <td>0.580392</td>\n",
       "      <td>0.560784</td>\n",
       "      <td>0.643137</td>\n",
       "      <td>0.643137</td>\n",
       "      <td>0</td>\n",
       "    </tr>\n",
       "    <tr>\n",
       "      <th>3</th>\n",
       "      <td>0.870588</td>\n",
       "      <td>0.878431</td>\n",
       "      <td>0.905882</td>\n",
       "      <td>0.901961</td>\n",
       "      <td>0.890196</td>\n",
       "      <td>0.894118</td>\n",
       "      <td>0.898039</td>\n",
       "      <td>0.894118</td>\n",
       "      <td>0.890196</td>\n",
       "      <td>0.882353</td>\n",
       "      <td>...</td>\n",
       "      <td>0.956863</td>\n",
       "      <td>0.941176</td>\n",
       "      <td>0.909804</td>\n",
       "      <td>0.890196</td>\n",
       "      <td>0.843137</td>\n",
       "      <td>0.796078</td>\n",
       "      <td>0.827451</td>\n",
       "      <td>0.858824</td>\n",
       "      <td>0.831373</td>\n",
       "      <td>0</td>\n",
       "    </tr>\n",
       "    <tr>\n",
       "      <th>4</th>\n",
       "      <td>0.419608</td>\n",
       "      <td>0.396078</td>\n",
       "      <td>0.337255</td>\n",
       "      <td>0.470588</td>\n",
       "      <td>0.576471</td>\n",
       "      <td>0.615686</td>\n",
       "      <td>0.803922</td>\n",
       "      <td>0.878431</td>\n",
       "      <td>0.737255</td>\n",
       "      <td>0.925490</td>\n",
       "      <td>...</td>\n",
       "      <td>0.388235</td>\n",
       "      <td>0.364706</td>\n",
       "      <td>0.372549</td>\n",
       "      <td>0.380392</td>\n",
       "      <td>0.337255</td>\n",
       "      <td>0.321569</td>\n",
       "      <td>0.396078</td>\n",
       "      <td>0.364706</td>\n",
       "      <td>0.329412</td>\n",
       "      <td>0</td>\n",
       "    </tr>\n",
       "    <tr>\n",
       "      <th>...</th>\n",
       "      <td>...</td>\n",
       "      <td>...</td>\n",
       "      <td>...</td>\n",
       "      <td>...</td>\n",
       "      <td>...</td>\n",
       "      <td>...</td>\n",
       "      <td>...</td>\n",
       "      <td>...</td>\n",
       "      <td>...</td>\n",
       "      <td>...</td>\n",
       "      <td>...</td>\n",
       "      <td>...</td>\n",
       "      <td>...</td>\n",
       "      <td>...</td>\n",
       "      <td>...</td>\n",
       "      <td>...</td>\n",
       "      <td>...</td>\n",
       "      <td>...</td>\n",
       "      <td>...</td>\n",
       "      <td>...</td>\n",
       "      <td>...</td>\n",
       "    </tr>\n",
       "    <tr>\n",
       "      <th>24995</th>\n",
       "      <td>0.552941</td>\n",
       "      <td>0.564706</td>\n",
       "      <td>0.576471</td>\n",
       "      <td>0.580392</td>\n",
       "      <td>0.584314</td>\n",
       "      <td>0.592157</td>\n",
       "      <td>0.596078</td>\n",
       "      <td>0.600000</td>\n",
       "      <td>0.607843</td>\n",
       "      <td>0.619608</td>\n",
       "      <td>...</td>\n",
       "      <td>0.635294</td>\n",
       "      <td>0.639216</td>\n",
       "      <td>0.639216</td>\n",
       "      <td>0.643137</td>\n",
       "      <td>0.643137</td>\n",
       "      <td>0.650980</td>\n",
       "      <td>0.654902</td>\n",
       "      <td>0.658824</td>\n",
       "      <td>0.662745</td>\n",
       "      <td>1</td>\n",
       "    </tr>\n",
       "    <tr>\n",
       "      <th>24996</th>\n",
       "      <td>0.352941</td>\n",
       "      <td>0.349020</td>\n",
       "      <td>0.388235</td>\n",
       "      <td>0.372549</td>\n",
       "      <td>0.345098</td>\n",
       "      <td>0.298039</td>\n",
       "      <td>0.301961</td>\n",
       "      <td>0.352941</td>\n",
       "      <td>0.356863</td>\n",
       "      <td>0.380392</td>\n",
       "      <td>...</td>\n",
       "      <td>0.247059</td>\n",
       "      <td>0.274510</td>\n",
       "      <td>0.321569</td>\n",
       "      <td>0.352941</td>\n",
       "      <td>0.364706</td>\n",
       "      <td>0.349020</td>\n",
       "      <td>0.313725</td>\n",
       "      <td>0.352941</td>\n",
       "      <td>0.325490</td>\n",
       "      <td>1</td>\n",
       "    </tr>\n",
       "    <tr>\n",
       "      <th>24997</th>\n",
       "      <td>0.168627</td>\n",
       "      <td>0.196078</td>\n",
       "      <td>0.215686</td>\n",
       "      <td>0.200000</td>\n",
       "      <td>0.160784</td>\n",
       "      <td>0.176471</td>\n",
       "      <td>0.203922</td>\n",
       "      <td>0.188235</td>\n",
       "      <td>0.400000</td>\n",
       "      <td>0.435294</td>\n",
       "      <td>...</td>\n",
       "      <td>0.654902</td>\n",
       "      <td>0.415686</td>\n",
       "      <td>0.556863</td>\n",
       "      <td>0.533333</td>\n",
       "      <td>0.521569</td>\n",
       "      <td>0.458824</td>\n",
       "      <td>0.541176</td>\n",
       "      <td>0.533333</td>\n",
       "      <td>0.572549</td>\n",
       "      <td>1</td>\n",
       "    </tr>\n",
       "    <tr>\n",
       "      <th>24998</th>\n",
       "      <td>0.984314</td>\n",
       "      <td>0.937255</td>\n",
       "      <td>0.807843</td>\n",
       "      <td>0.568627</td>\n",
       "      <td>0.392157</td>\n",
       "      <td>0.349020</td>\n",
       "      <td>0.341176</td>\n",
       "      <td>0.364706</td>\n",
       "      <td>0.321569</td>\n",
       "      <td>0.317647</td>\n",
       "      <td>...</td>\n",
       "      <td>0.396078</td>\n",
       "      <td>0.364706</td>\n",
       "      <td>0.380392</td>\n",
       "      <td>0.396078</td>\n",
       "      <td>0.407843</td>\n",
       "      <td>0.411765</td>\n",
       "      <td>0.415686</td>\n",
       "      <td>0.435294</td>\n",
       "      <td>0.454902</td>\n",
       "      <td>1</td>\n",
       "    </tr>\n",
       "    <tr>\n",
       "      <th>24999</th>\n",
       "      <td>0.964706</td>\n",
       "      <td>0.964706</td>\n",
       "      <td>0.956863</td>\n",
       "      <td>0.972549</td>\n",
       "      <td>0.972549</td>\n",
       "      <td>0.960784</td>\n",
       "      <td>0.956863</td>\n",
       "      <td>0.964706</td>\n",
       "      <td>0.988235</td>\n",
       "      <td>0.988235</td>\n",
       "      <td>...</td>\n",
       "      <td>1.000000</td>\n",
       "      <td>0.996078</td>\n",
       "      <td>0.996078</td>\n",
       "      <td>0.996078</td>\n",
       "      <td>0.996078</td>\n",
       "      <td>0.996078</td>\n",
       "      <td>0.996078</td>\n",
       "      <td>0.996078</td>\n",
       "      <td>0.996078</td>\n",
       "      <td>1</td>\n",
       "    </tr>\n",
       "  </tbody>\n",
       "</table>\n",
       "<p>25000 rows × 2501 columns</p>\n",
       "</div>"
      ],
      "text/plain": [
       "              0         1         2         3         4         5         6  \\\n",
       "0      0.670588  0.701961  0.729412  0.756863  0.772549  0.788235  0.803922   \n",
       "1      0.160784  0.188235  0.164706  0.180392  0.188235  0.188235  0.156863   \n",
       "2      0.164706  0.192157  0.215686  0.227451  0.223529  0.219608  0.215686   \n",
       "3      0.870588  0.878431  0.905882  0.901961  0.890196  0.894118  0.898039   \n",
       "4      0.419608  0.396078  0.337255  0.470588  0.576471  0.615686  0.803922   \n",
       "...         ...       ...       ...       ...       ...       ...       ...   \n",
       "24995  0.552941  0.564706  0.576471  0.580392  0.584314  0.592157  0.596078   \n",
       "24996  0.352941  0.349020  0.388235  0.372549  0.345098  0.298039  0.301961   \n",
       "24997  0.168627  0.196078  0.215686  0.200000  0.160784  0.176471  0.203922   \n",
       "24998  0.984314  0.937255  0.807843  0.568627  0.392157  0.349020  0.341176   \n",
       "24999  0.964706  0.964706  0.956863  0.972549  0.972549  0.960784  0.956863   \n",
       "\n",
       "              7         8         9  ...      2491      2492      2493  \\\n",
       "0      0.815686  0.827451  0.847059  ...  0.074510  0.054902  0.035294   \n",
       "1      0.164706  0.152941  0.172549  ...  0.211765  0.231373  0.231373   \n",
       "2      0.207843  0.192157  0.188235  ...  0.290196  0.286275  0.286275   \n",
       "3      0.894118  0.890196  0.882353  ...  0.956863  0.941176  0.909804   \n",
       "4      0.878431  0.737255  0.925490  ...  0.388235  0.364706  0.372549   \n",
       "...         ...       ...       ...  ...       ...       ...       ...   \n",
       "24995  0.600000  0.607843  0.619608  ...  0.635294  0.639216  0.639216   \n",
       "24996  0.352941  0.356863  0.380392  ...  0.247059  0.274510  0.321569   \n",
       "24997  0.188235  0.400000  0.435294  ...  0.654902  0.415686  0.556863   \n",
       "24998  0.364706  0.321569  0.317647  ...  0.396078  0.364706  0.380392   \n",
       "24999  0.964706  0.988235  0.988235  ...  1.000000  0.996078  0.996078   \n",
       "\n",
       "           2494      2495      2496      2497      2498      2499  target  \n",
       "0      0.015686  0.015686  0.011765  0.007843  0.007843  0.007843       0  \n",
       "1      0.192157  0.207843  0.219608  0.231373  0.227451  0.156863       0  \n",
       "2      0.419608  0.576471  0.580392  0.560784  0.643137  0.643137       0  \n",
       "3      0.890196  0.843137  0.796078  0.827451  0.858824  0.831373       0  \n",
       "4      0.380392  0.337255  0.321569  0.396078  0.364706  0.329412       0  \n",
       "...         ...       ...       ...       ...       ...       ...     ...  \n",
       "24995  0.643137  0.643137  0.650980  0.654902  0.658824  0.662745       1  \n",
       "24996  0.352941  0.364706  0.349020  0.313725  0.352941  0.325490       1  \n",
       "24997  0.533333  0.521569  0.458824  0.541176  0.533333  0.572549       1  \n",
       "24998  0.396078  0.407843  0.411765  0.415686  0.435294  0.454902       1  \n",
       "24999  0.996078  0.996078  0.996078  0.996078  0.996078  0.996078       1  \n",
       "\n",
       "[25000 rows x 2501 columns]"
      ]
     },
     "execution_count": 15,
     "metadata": {},
     "output_type": "execute_result"
    }
   ],
   "source": [
    "final"
   ]
  },
  {
   "cell_type": "markdown",
   "metadata": {},
   "source": [
    "NUMBER OF PIXELS =5625\n",
    "\n",
    "NUMBER OF SAMPLES=25000"
   ]
  },
  {
   "cell_type": "markdown",
   "metadata": {},
   "source": [
    "## Data Visulization\n",
    "\n"
   ]
  },
  {
   "cell_type": "code",
   "execution_count": 39,
   "metadata": {},
   "outputs": [
    {
     "data": {
      "image/png": "[encoded data removed]",
      "text/plain": [
       "<Figure size 432x288 with 1 Axes>"
      ]
     },
     "metadata": {
      "needs_background": "light"
     },
     "output_type": "display_data"
    }
   ],
   "source": [
    "#showing an image \n",
    "import matplotlib.pyplot as plt\n",
    "for img in os.listdir(train_dir):\n",
    "    path=os.path.join(train_dir,img)\n",
    "    img = Image.open(path)\n",
    "    plt.imshow(img)\n",
    "    break"
   ]
  },
  {
   "cell_type": "code",
   "execution_count": 47,
   "metadata": {},
   "outputs": [
    {
     "data": {
      "text/plain": [
       "array([0, 0, 0, ..., 1, 1, 1])"
      ]
     },
     "execution_count": 47,
     "metadata": {},
     "output_type": "execute_result"
    }
   ],
   "source": [
    "train_lables"
   ]
  },
  {
   "cell_type": "code",
   "execution_count": 46,
   "metadata": {},
   "outputs": [
    {
     "data": {
      "image/png": "[encoded data removed]",
      "text/plain": [
       "<Figure size 432x288 with 1 Axes>"
      ]
     },
     "metadata": {
      "needs_background": "light"
     },
     "output_type": "display_data"
    }
   ],
   "source": [
    "import seaborn as sns\n",
    "ax = sns.countplot(x=train_lables)"
   ]
  },
  {
   "cell_type": "markdown",
   "metadata": {},
   "source": [
    "## Creating a Convulutional Neural Network"
   ]
  },
  {
   "cell_type": "code",
   "execution_count": 16,
   "metadata": {},
   "outputs": [],
   "source": [
    "#importing all the required libraires\n",
    "\n",
    "from tensorflow.keras.preprocessing.image import ImageDataGenerator, load_img\n",
    "from tensorflow.keras.models import Sequential\n",
    "from tensorflow.keras.layers import Conv2D, MaxPooling2D\n",
    "from tensorflow.keras.layers import Activation, Dropout, Flatten, Dense\n",
    "from tensorflow.keras import backend as K\n",
    "\n",
    "\n",
    "from tensorflow.keras.models import load_model\n",
    "from tensorflow.keras.preprocessing import image\n",
    "import numpy as np\n",
    "from os import listdir\n",
    "from os.path import isfile, join"
   ]
  },
  {
   "cell_type": "code",
   "execution_count": 33,
   "metadata": {},
   "outputs": [],
   "source": [
    "input_shape=(50,50,1)\n",
    "\n",
    "model = Sequential()\n",
    "\n",
    "model.add(Conv2D(32, (3, 3), input_shape=input_shape))\n",
    "model.add(MaxPooling2D(pool_size=(2, 2)))\n",
    "model.add(Activation('relu'))\n",
    "\n",
    "model.add(Conv2D(64, (3, 3)))\n",
    "model.add(MaxPooling2D(pool_size=(2, 2)))\n",
    "model.add(Activation('relu'))\n",
    "\n",
    "model.add(Conv2D(128, (3, 3)))\n",
    "model.add(MaxPooling2D(pool_size=(2, 2)))\n",
    "model.add(Activation('relu'))\n",
    "\n",
    "model.add(Flatten()) # Output convert into one dimension layer and will go to Dense layer\n",
    "model.add(Dense(512))\n",
    "model.add(Activation('relu'))\n",
    "model.add(Dense(256))\n",
    "model.add(Activation('relu'))\n",
    "model.add(Dense(1))\n",
    "model.add(Activation('sigmoid'))"
   ]
  },
  {
   "cell_type": "code",
   "execution_count": 34,
   "metadata": {},
   "outputs": [],
   "source": [
    "model.compile(loss='binary_crossentropy', \n",
    "              optimizer='Adam',\n",
    "              metrics=['accuracy'])"
   ]
  },
  {
   "cell_type": "code",
   "execution_count": 35,
   "metadata": {},
   "outputs": [
    {
     "data": {
      "text/plain": [
       "(25000, 50, 50, 1)"
      ]
     },
     "execution_count": 35,
     "metadata": {},
     "output_type": "execute_result"
    }
   ],
   "source": [
    "x.shape"
   ]
  },
  {
   "cell_type": "code",
   "execution_count": 36,
   "metadata": {},
   "outputs": [
    {
     "data": {
      "text/plain": [
       "(25000,)"
      ]
     },
     "execution_count": 36,
     "metadata": {},
     "output_type": "execute_result"
    }
   ],
   "source": [
    "train_lables.shape"
   ]
  },
  {
   "cell_type": "code",
   "execution_count": 37,
   "metadata": {},
   "outputs": [
    {
     "name": "stdout",
     "output_type": "stream",
     "text": [
      "Epoch 1/20\n",
      "782/782 [==============================] - 50s 64ms/step - loss: 0.5960 - accuracy: 0.6682\n",
      "Epoch 2/20\n",
      "782/782 [==============================] - 49s 62ms/step - loss: 0.4776 - accuracy: 0.7695\n",
      "Epoch 3/20\n",
      "782/782 [==============================] - 47s 61ms/step - loss: 0.4136 - accuracy: 0.8081\n",
      "Epoch 4/20\n",
      "782/782 [==============================] - 49s 62ms/step - loss: 0.3625 - accuracy: 0.8364\n",
      "Epoch 5/20\n",
      "782/782 [==============================] - 47s 60ms/step - loss: 0.3174 - accuracy: 0.8616\n",
      "Epoch 6/20\n",
      "782/782 [==============================] - 46s 58ms/step - loss: 0.2685 - accuracy: 0.8866\n",
      "Epoch 7/20\n",
      "782/782 [==============================] - 47s 60ms/step - loss: 0.2307 - accuracy: 0.90391s\n",
      "Epoch 8/20\n",
      "782/782 [==============================] - 46s 59ms/step - loss: 0.1879 - accuracy: 0.9233\n",
      "Epoch 9/20\n",
      "782/782 [==============================] - 46s 59ms/step - loss: 0.1512 - accuracy: 0.9388\n",
      "Epoch 10/20\n",
      "782/782 [==============================] - 46s 58ms/step - loss: 0.1182 - accuracy: 0.9544\n",
      "Epoch 11/20\n",
      "782/782 [==============================] - 46s 58ms/step - loss: 0.0892 - accuracy: 0.9658\n",
      "Epoch 12/20\n",
      "782/782 [==============================] - 46s 59ms/step - loss: 0.0827 - accuracy: 0.9684\n",
      "Epoch 13/20\n",
      "782/782 [==============================] - 46s 59ms/step - loss: 0.0648 - accuracy: 0.9742\n",
      "Epoch 14/20\n",
      "782/782 [==============================] - 47s 61ms/step - loss: 0.0562 - accuracy: 0.9786\n",
      "Epoch 15/20\n",
      "782/782 [==============================] - 49s 62ms/step - loss: 0.0505 - accuracy: 0.98200s - loss: 0.0506 - accu\n",
      "Epoch 16/20\n",
      "782/782 [==============================] - 48s 62ms/step - loss: 0.0415 - accuracy: 0.9845\n",
      "Epoch 17/20\n",
      "782/782 [==============================] - 48s 62ms/step - loss: 0.0434 - accuracy: 0.9835\n",
      "Epoch 18/20\n",
      "782/782 [==============================] - 48s 62ms/step - loss: 0.0368 - accuracy: 0.9868\n",
      "Epoch 19/20\n",
      "782/782 [==============================] - 48s 62ms/step - loss: 0.0328 - accuracy: 0.9888\n",
      "Epoch 20/20\n",
      "782/782 [==============================] - 48s 62ms/step - loss: 0.0315 - accuracy: 0.9887\n"
     ]
    },
    {
     "data": {
      "text/plain": [
       "<tensorflow.python.keras.callbacks.History at 0x13a19259ee0>"
      ]
     },
     "execution_count": 37,
     "metadata": {},
     "output_type": "execute_result"
    }
   ],
   "source": [
    "model.fit(x,train_lables,epochs=20)"
   ]
  },
  {
   "cell_type": "markdown",
   "metadata": {},
   "source": [
    "We have got an accuraccy of **99** on the training data set"
   ]
  },
  {
   "cell_type": "markdown",
   "metadata": {},
   "source": [
    "I didnt split the data initially for testing so we are not able to perform testing"
   ]
  },
  {
   "cell_type": "code",
   "execution_count": null,
   "metadata": {},
   "outputs": [],
   "source": []
  }
 ],
 "metadata": {
  "kernelspec": {
   "display_name": "Python 3",
   "language": "python",
   "name": "python3"
  },
  "language_info": {
   "codemirror_mode": {
    "name": "ipython",
    "version": 3
   },
   "file_extension": ".py",
   "mimetype": "text/x-python",
   "name": "python",
   "nbconvert_exporter": "python",
   "pygments_lexer": "ipython3",
   "version": "3.8.3"
  }
 },
 "nbformat": 4,
 "nbformat_minor": 4
}
